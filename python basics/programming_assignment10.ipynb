{
  "nbformat": 4,
  "nbformat_minor": 0,
  "metadata": {
    "colab": {
      "provenance": []
    },
    "kernelspec": {
      "name": "python3",
      "display_name": "Python 3"
    },
    "language_info": {
      "name": "python"
    }
  },
  "cells": [
    {
      "cell_type": "markdown",
      "source": [
        "1. Write a Python program to find sum of elements in list?"
      ],
      "metadata": {
        "id": "Kvpt_SRZDo2X"
      }
    },
    {
      "cell_type": "code",
      "execution_count": null,
      "metadata": {
        "colab": {
          "base_uri": "https://localhost:8080/"
        },
        "id": "LqKNcrz7DiHH",
        "outputId": "5609cdf1-4d83-4db0-8c3c-834f1c4b2b3c"
      },
      "outputs": [
        {
          "output_type": "stream",
          "name": "stdout",
          "text": [
            "21\n"
          ]
        }
      ],
      "source": [
        "li = [1,2,3,4,5,6]\n",
        "sum = 0\n",
        "for i in li:\n",
        "  sum = sum + i\n",
        "\n",
        "print(sum)  "
      ]
    },
    {
      "cell_type": "markdown",
      "source": [
        "2. Write a Python program to Multiply all numbers in the list?"
      ],
      "metadata": {
        "id": "ryLwKBW2EUx0"
      }
    },
    {
      "cell_type": "code",
      "source": [
        "li = [1,2,3,4,5,6]\n",
        "sum = 1\n",
        "for i in li:\n",
        "  sum = sum*i\n",
        "\n",
        "print(sum)  "
      ],
      "metadata": {
        "colab": {
          "base_uri": "https://localhost:8080/"
        },
        "id": "DLnyr8N2DxDt",
        "outputId": "abe5fb25-cf17-493a-a1ca-b4c5b47fda19"
      },
      "execution_count": null,
      "outputs": [
        {
          "output_type": "stream",
          "name": "stdout",
          "text": [
            "720\n"
          ]
        }
      ]
    },
    {
      "cell_type": "markdown",
      "source": [
        "3. Write a Python program to find smallest number in a list?"
      ],
      "metadata": {
        "id": "AQfam411EqYS"
      }
    },
    {
      "cell_type": "code",
      "source": [
        "li = [10,10,3,8,9,2,-1]\n",
        "\n",
        "smallest = li[0]\n",
        "\n",
        "for i in li:\n",
        "  if smallest >= i:\n",
        "    smallest = i\n",
        "\n",
        "print(smallest)    "
      ],
      "metadata": {
        "colab": {
          "base_uri": "https://localhost:8080/"
        },
        "id": "rHH0VUJqEpLf",
        "outputId": "adb590f1-c56d-4203-85cf-862fb808b2c5"
      },
      "execution_count": null,
      "outputs": [
        {
          "output_type": "stream",
          "name": "stdout",
          "text": [
            "-1\n"
          ]
        }
      ]
    },
    {
      "cell_type": "markdown",
      "source": [
        "4. Write a Python program to find largest number in a list?"
      ],
      "metadata": {
        "id": "7tjb2czPFVyS"
      }
    },
    {
      "cell_type": "code",
      "source": [
        "li = [10,10,3,8,19,2,-1]\n",
        "\n",
        "largestt = li[0]\n",
        "\n",
        "for i in li:\n",
        "  if largestt <= i:\n",
        "    largestt = i\n",
        "\n",
        "print(largestt)    "
      ],
      "metadata": {
        "colab": {
          "base_uri": "https://localhost:8080/"
        },
        "id": "KoRrVimVE1Lp",
        "outputId": "f99ddf7f-238d-49c5-d097-ec895697a381"
      },
      "execution_count": null,
      "outputs": [
        {
          "output_type": "stream",
          "name": "stdout",
          "text": [
            "19\n"
          ]
        }
      ]
    },
    {
      "cell_type": "markdown",
      "source": [
        "5. Write a Python program to find second largest number in a list?"
      ],
      "metadata": {
        "id": "VlrrTFpxFrb9"
      }
    },
    {
      "cell_type": "code",
      "source": [
        "li = [4,1,2,3,67,2,454,98997,1]\n",
        "li2 = sorted(li)\n",
        "\n",
        "\n",
        "a = li2[len(li)-2]\n",
        "print(\"this is the second laregst number in a list\",a)"
      ],
      "metadata": {
        "id": "uIKzaIv5FtCL",
        "colab": {
          "base_uri": "https://localhost:8080/"
        },
        "outputId": "3ff55803-b275-48bb-d953-ae1b78b7ed63"
      },
      "execution_count": 20,
      "outputs": [
        {
          "output_type": "stream",
          "name": "stdout",
          "text": [
            "this is the second laregst number in a list 454\n"
          ]
        }
      ]
    },
    {
      "cell_type": "markdown",
      "source": [
        "6. Write a Python program to find N largest elements from a list?"
      ],
      "metadata": {
        "id": "59YAgMKe2H9S"
      }
    },
    {
      "cell_type": "code",
      "source": [
        "li = [4,1,2,3,67,2,454,98997,1]\n",
        "li2 = sorted(li)\n",
        "print(li2)\n",
        "n = int(input(\"enter n largest element you want to find \"))\n",
        "if n > len(li2):\n",
        "  print(\"index out of range\")\n",
        "else :\n",
        "  a = li2[len(li2)-n]\n",
        "\n",
        "print(f\"this is my {n}th largest element{a}\")"
      ],
      "metadata": {
        "colab": {
          "base_uri": "https://localhost:8080/"
        },
        "id": "L4lEGuYv0pb0",
        "outputId": "88e4b57b-24f2-44dc-e368-e3c4921cbb53"
      },
      "execution_count": 31,
      "outputs": [
        {
          "output_type": "stream",
          "name": "stdout",
          "text": [
            "[1, 1, 2, 2, 3, 4, 67, 454, 98997]\n",
            "enter n largest element you want to find 4\n",
            "this is my 4th largest element4\n"
          ]
        }
      ]
    },
    {
      "cell_type": "markdown",
      "source": [
        "7. Write a Python program to print even numbers in a list?"
      ],
      "metadata": {
        "id": "TzrmM_pD8GTK"
      }
    },
    {
      "cell_type": "code",
      "source": [
        "li = [1,2,3,4,5,6,7,8,9]\n",
        "li2 = []\n",
        "for i in li:\n",
        "  if i % 2 == 0:\n",
        "    li2.append(i)\n",
        "print(li2)"
      ],
      "metadata": {
        "colab": {
          "base_uri": "https://localhost:8080/"
        },
        "id": "rL6sDmy23V3K",
        "outputId": "4a8b51a8-6f4a-4a78-e74b-f0808beaf261"
      },
      "execution_count": 34,
      "outputs": [
        {
          "output_type": "stream",
          "name": "stdout",
          "text": [
            "[2, 4, 6, 8]\n"
          ]
        }
      ]
    },
    {
      "cell_type": "markdown",
      "source": [
        "8. Write a Python program to print odd numbers in a List?"
      ],
      "metadata": {
        "id": "nIvZdyv48uhG"
      }
    },
    {
      "cell_type": "code",
      "source": [
        "li = [1,2,3,4,5,6,7,8,9]\n",
        "li2 = []\n",
        "for i in li:\n",
        "  if i % 2 != 0:\n",
        "    li2.append(i)\n",
        "print(li2)"
      ],
      "metadata": {
        "colab": {
          "base_uri": "https://localhost:8080/"
        },
        "id": "GFlHLGQk8wPW",
        "outputId": "231cebe1-b875-4198-a791-5382278b475f"
      },
      "execution_count": 35,
      "outputs": [
        {
          "output_type": "stream",
          "name": "stdout",
          "text": [
            "[1, 3, 5, 7, 9]\n"
          ]
        }
      ]
    },
    {
      "cell_type": "markdown",
      "source": [
        "9. Write a Python program to Remove empty List from List?"
      ],
      "metadata": {
        "id": "ytIar3s88unO"
      }
    },
    {
      "cell_type": "code",
      "source": [
        "li = [1,2,3,[],4,5,[],6]\n",
        "li2 = []\n",
        "for i in li:\n",
        "  if i != []:\n",
        "    li2.append(i)\n",
        "print(li2)"
      ],
      "metadata": {
        "colab": {
          "base_uri": "https://localhost:8080/"
        },
        "id": "kCG8RrSh893b",
        "outputId": "660f12a4-84c9-4cf1-b19a-052922873d2f"
      },
      "execution_count": 39,
      "outputs": [
        {
          "output_type": "stream",
          "name": "stdout",
          "text": [
            "[1, 2, 3, 4, 5, 6]\n"
          ]
        }
      ]
    },
    {
      "cell_type": "markdown",
      "source": [
        "10. Write a Python program to Cloning or Copying a list?"
      ],
      "metadata": {
        "id": "QuDdtSvB9xDK"
      }
    },
    {
      "cell_type": "code",
      "source": [
        "import copy\n",
        "li = [1,2,3,4,5]\n",
        "\n",
        "li2 =  copy.copy(li)\n",
        "print(li2)\n",
        "\n",
        "print(id(li))\n",
        "print(id(li2))\n",
        "\n",
        "## see they both have different addresses so it is complete copying \n",
        "\n",
        "\n",
        "\n",
        "print(\"##########################################################################\")\n",
        "\n",
        "li = [6,3,7,8,2,4,56]\n",
        "li2 = li\n",
        "print(li2)\n",
        "print(id(li))\n",
        "print(id(li2))\n",
        "\n",
        "### see they both have same adresss and it is cloning\n"
      ],
      "metadata": {
        "colab": {
          "base_uri": "https://localhost:8080/"
        },
        "id": "Dtcapdrb9xZe",
        "outputId": "bce737e5-7072-4d7b-cf0d-0160dcea8d1f"
      },
      "execution_count": 56,
      "outputs": [
        {
          "output_type": "stream",
          "name": "stdout",
          "text": [
            "[1, 2, 3, 4, 5]\n",
            "139735089000128\n",
            "139735089151424\n",
            "##########################################################################\n",
            "[6, 3, 7, 8, 2, 4, 56]\n",
            "139735089149632\n",
            "139735089149632\n"
          ]
        }
      ]
    },
    {
      "cell_type": "markdown",
      "source": [
        "11. Write a Python program to Count occurrences of an element in a list?"
      ],
      "metadata": {
        "id": "cHQubZZQ_zhC"
      }
    },
    {
      "cell_type": "code",
      "source": [
        "li = [1,1,1,2,3,4,5,6,7,8,1]\n",
        "count = 0\n",
        "n = int(input(\"enter the n element of which you wnat to find occurance : \"))\n",
        "for i in li:\n",
        "  if i == n:\n",
        "    count = count + 1\n",
        "\n",
        "if count > 0:\n",
        "  print(\"yes the element is present\")\n",
        "  print(\"occurance is \",count)\n",
        "else:\n",
        "  print(\"not even present\")  \n"
      ],
      "metadata": {
        "colab": {
          "base_uri": "https://localhost:8080/"
        },
        "id": "tDjNDIAL-Uvg",
        "outputId": "ae23fbc8-f1a3-44d8-89df-7b359a6fe43f"
      },
      "execution_count": 61,
      "outputs": [
        {
          "output_type": "stream",
          "name": "stdout",
          "text": [
            "enter the n element of which you wnat to find occurance : 1\n",
            "yes the element is present\n",
            "occurance is  4\n"
          ]
        }
      ]
    }
  ]
}