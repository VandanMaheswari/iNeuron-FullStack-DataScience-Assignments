{
  "nbformat": 4,
  "nbformat_minor": 0,
  "metadata": {
    "colab": {
      "provenance": []
    },
    "kernelspec": {
      "name": "python3",
      "display_name": "Python 3"
    },
    "language_info": {
      "name": "python"
    }
  },
  "cells": [
    {
      "cell_type": "markdown",
      "source": [
        "Question1\n",
        "Create a function that takes three parameters where:\n",
        " x is the start of the range (inclusive).\n",
        " y is the end of the range (inclusive).\n",
        " n is the divisor to be checked against.\n",
        "Return an ordered list with numbers in the range that are divisible by the third parameter n.\n",
        "Return an empty list if there are no numbers that are divisible by n.\n",
        "Examples\n",
        "list_operation(1, 10, 3) ➞ [3, 6, 9]\n",
        "list_operation(7, 9, 2) ➞ [8]\n",
        "list_operation(15, 20, 7) ➞ []"
      ],
      "metadata": {
        "id": "PXHjxs0fxkRT"
      }
    },
    {
      "cell_type": "code",
      "execution_count": 1,
      "metadata": {
        "id": "Ch3jJyhgxe8D"
      },
      "outputs": [],
      "source": [
        "def list_operation(f,l,n):\n",
        "  li = []\n",
        "  for i in range(f,l):\n",
        "    if i % n == 0:\n",
        "      li.append(i)\n",
        "\n",
        "  return li    "
      ]
    },
    {
      "cell_type": "code",
      "source": [
        "list_operation(7,9,2)"
      ],
      "metadata": {
        "colab": {
          "base_uri": "https://localhost:8080/"
        },
        "id": "BZg4OTFAx1uJ",
        "outputId": "96d80cac-612e-4a0e-9b33-b5a8ca086dd1"
      },
      "execution_count": 2,
      "outputs": [
        {
          "output_type": "execute_result",
          "data": {
            "text/plain": [
              "[8]"
            ]
          },
          "metadata": {},
          "execution_count": 2
        }
      ]
    },
    {
      "cell_type": "markdown",
      "source": [
        "Question2\n",
        "Create a function that takes in two lists and returns True if the second list follows the first list\n",
        "by one element, and False otherwise. In other words, determine if the second list is the first\n",
        "list shifted to the right by 1.\n",
        "Examples\n",
        "simon_says([1, 2], [5, 1]) ➞ True\n",
        "simon_says([1, 2], [5, 5]) ➞ False\n",
        "simon_says([1, 2, 3, 4, 5], [0, 1, 2, 3, 4]) ➞ True\n",
        "simon_says([1, 2, 3, 4, 5], [5, 5, 1, 2, 3]) ➞ False"
      ],
      "metadata": {
        "id": "nV8v8yrH4R6k"
      }
    },
    {
      "cell_type": "code",
      "source": [
        "def simon_says(li1,li2):\n",
        "  count1 = 0\n",
        "  count2 = 0\n",
        "\n",
        "  for i in li1:\n",
        "    if i not in li2:\n",
        "      count1 = count1 + 1\n",
        "\n",
        "  for i in li2:\n",
        "    if i not in li1:\n",
        "      count2 = count2 + 1\n",
        "\n",
        "  if count1 == 1  and count2 ==  1:\n",
        "    return True \n",
        "  else:\n",
        "    return False        \n"
      ],
      "metadata": {
        "id": "6IRJcG6Dx4f-"
      },
      "execution_count": 7,
      "outputs": []
    },
    {
      "cell_type": "code",
      "source": [
        "simon_says([1,2,3,4,5],[5,5,1,2,3])"
      ],
      "metadata": {
        "colab": {
          "base_uri": "https://localhost:8080/"
        },
        "id": "McKKtKY14_81",
        "outputId": "07a3cdfc-ae3b-4ce2-ba69-909aa6d236a1"
      },
      "execution_count": 8,
      "outputs": [
        {
          "output_type": "execute_result",
          "data": {
            "text/plain": [
              "False"
            ]
          },
          "metadata": {},
          "execution_count": 8
        }
      ]
    },
    {
      "cell_type": "markdown",
      "source": [
        "Question3\n",
        "A group of friends have decided to start a secret society. The name will be the first letter of\n",
        "each of their names, sorted in alphabetical order.\n",
        "Create a function that takes in a list of names and returns the name of the secret society.\n",
        "\n",
        "Examples\n",
        "society_name([&quot;Adam&quot;, &quot;Sarah&quot;, &quot;Malcolm&quot;]) ➞ &quot;AMS&quot;\n",
        "society_name([&quot;Harry&quot;, &quot;Newt&quot;, &quot;Luna&quot;, &quot;Cho&quot;]) ➞ &quot;CHLN&quot;\n",
        "society_name([&quot;Phoebe&quot;, &quot;Chandler&quot;, &quot;Rachel&quot;, &quot;Ross&quot;, &quot;Monica&quot;, &quot;Joey&quot;])"
      ],
      "metadata": {
        "id": "6QWTzFv16dew"
      }
    },
    {
      "cell_type": "code",
      "source": [
        "def society_name(li):\n",
        "  li1 = []\n",
        "  str1 = ''\n",
        "  for i in li:\n",
        "    li1.append(i[0])\n",
        "\n",
        "  for i in sorted(li1):\n",
        "    str1 = str1 + i  \n",
        "\n",
        "  return  str1  "
      ],
      "metadata": {
        "id": "JlAbmnVy5Ek4"
      },
      "execution_count": 13,
      "outputs": []
    },
    {
      "cell_type": "code",
      "source": [
        "society_name([\"Adam\" , 'Sarah' , 'Malcolm'])"
      ],
      "metadata": {
        "colab": {
          "base_uri": "https://localhost:8080/",
          "height": 36
        },
        "id": "TNL0rTBN652i",
        "outputId": "fd8d6d1a-ca8a-4f93-e2d6-59587bca721c"
      },
      "execution_count": 14,
      "outputs": [
        {
          "output_type": "execute_result",
          "data": {
            "text/plain": [
              "'AMS'"
            ],
            "application/vnd.google.colaboratory.intrinsic+json": {
              "type": "string"
            }
          },
          "metadata": {},
          "execution_count": 14
        }
      ]
    },
    {
      "cell_type": "markdown",
      "source": [
        "Question4\n",
        "An isogram is a word that has no duplicate letters. Create a function that takes a string and\n",
        "returns either True or False depending on whether or not it&#39;s an &quot;isogram&quot;.\n",
        "Examples\n",
        "is_isogram(&quot;Algorism&quot;) ➞ True\n",
        "is_isogram(&quot;PasSword&quot;) ➞ False\n",
        "# Not case sensitive.\n",
        "is_isogram(&quot;Consecutive&quot;) ➞ False\n",
        "Notes\n",
        " Ignore letter case (should not be case sensitive).\n",
        " All test cases contain valid one word strings."
      ],
      "metadata": {
        "id": "V0Lrgo6w9hau"
      }
    },
    {
      "cell_type": "code",
      "source": [
        "def is_isogram(str1):\n",
        "  str1 = str1.lower()\n",
        "  count = 0\n",
        "  for i in str1:\n",
        "    for j in str1:\n",
        "      if i == j :\n",
        "        count = count + 1\n",
        "        # print(count)\n",
        "    if count >1:\n",
        "      return False\n",
        "    count = 0 \n",
        "  return True       \n",
        "  "
      ],
      "metadata": {
        "id": "yjrkjg9Y7E7O"
      },
      "execution_count": 33,
      "outputs": []
    },
    {
      "cell_type": "code",
      "source": [
        "is_isogram(\"Algorism\")\n"
      ],
      "metadata": {
        "colab": {
          "base_uri": "https://localhost:8080/"
        },
        "id": "RdkNppF79wFE",
        "outputId": "5076380d-0821-41fd-f460-98c118619222"
      },
      "execution_count": 34,
      "outputs": [
        {
          "output_type": "execute_result",
          "data": {
            "text/plain": [
              "True"
            ]
          },
          "metadata": {},
          "execution_count": 34
        }
      ]
    },
    {
      "cell_type": "markdown",
      "source": [
        "Question5\n",
        "Create a function that takes a string and returns True or False, depending on whether the\n",
        "characters are in order or not.\n",
        "Examples\n",
        "is_in_order(&quot;abc&quot;) ➞ True\n",
        "is_in_order(&quot;edabit&quot;) ➞ False\n",
        "is_in_order(&quot;123&quot;) ➞ True\n",
        "is_in_order(&quot;xyzz&quot;) ➞ True\n",
        "Notes\n",
        "You don&#39;t have to handle empty strings."
      ],
      "metadata": {
        "id": "LAnFbMSvBOOW"
      }
    },
    {
      "cell_type": "code",
      "source": [
        "def is_in_order(str1):\n",
        "  li1 = []\n",
        "  li2 = []\n",
        "  for i in str1:\n",
        "    li1.append(i)\n",
        "  li2 = sorted(str1)\n",
        "\n",
        "  if li1 == li2 :\n",
        "    return True\n",
        "  else:\n",
        "    return False  "
      ],
      "metadata": {
        "id": "K1NiCwHR91Fz"
      },
      "execution_count": 35,
      "outputs": []
    },
    {
      "cell_type": "code",
      "source": [
        "is_in_order(\"edabit\")"
      ],
      "metadata": {
        "colab": {
          "base_uri": "https://localhost:8080/"
        },
        "id": "6ZfJuQglBpF5",
        "outputId": "ff7e492b-c984-4b03-a4e3-7901759cd1ba"
      },
      "execution_count": 37,
      "outputs": [
        {
          "output_type": "execute_result",
          "data": {
            "text/plain": [
              "False"
            ]
          },
          "metadata": {},
          "execution_count": 37
        }
      ]
    },
    {
      "cell_type": "code",
      "source": [
        "is_in_order(\"abc\")\n"
      ],
      "metadata": {
        "colab": {
          "base_uri": "https://localhost:8080/"
        },
        "id": "pUhQamZLBsAh",
        "outputId": "aa0a987a-59c0-4304-f982-2206e527e07e"
      },
      "execution_count": 38,
      "outputs": [
        {
          "output_type": "execute_result",
          "data": {
            "text/plain": [
              "True"
            ]
          },
          "metadata": {},
          "execution_count": 38
        }
      ]
    },
    {
      "cell_type": "code",
      "source": [],
      "metadata": {
        "id": "NRFWKyAiBxFg"
      },
      "execution_count": null,
      "outputs": []
    }
  ]
}