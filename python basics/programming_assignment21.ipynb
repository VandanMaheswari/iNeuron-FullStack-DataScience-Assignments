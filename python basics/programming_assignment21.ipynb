{
  "nbformat": 4,
  "nbformat_minor": 0,
  "metadata": {
    "colab": {
      "provenance": []
    },
    "kernelspec": {
      "name": "python3",
      "display_name": "Python 3"
    },
    "language_info": {
      "name": "python"
    }
  },
  "cells": [
    {
      "cell_type": "markdown",
      "source": [
        "Question1\n",
        "Write a function that takes a list and a number as arguments. Add the number to the end of\n",
        "the list, then remove the first element of the list. The function should then return the updated\n",
        "list.\n",
        "Examples\n",
        "next_in_line([5, 6, 7, 8, 9], 1) ➞ [6, 7, 8, 9, 1]\n",
        "next_in_line([7, 6, 3, 23, 17], 10) ➞ [6, 3, 23, 17, 10]\n",
        "next_in_line([1, 10, 20, 42 ], 6) ➞ [10, 20, 42, 6]\n",
        "next_in_line([], 6) ➞ &quot;No list has been selected&quot;"
      ],
      "metadata": {
        "id": "W9PNvkMfEPhN"
      }
    },
    {
      "cell_type": "markdown",
      "source": [],
      "metadata": {
        "id": "snAUxDmvuzfB"
      }
    },
    {
      "cell_type": "code",
      "source": [
        "def next_in_line(li , ele):\n",
        "  li2 = []\n",
        "  if li == []:\n",
        "    return \"no list has been selected\"\n",
        "  else:\n",
        "    for i in range(1,len(li)):\n",
        "      li2.append(li[i])\n",
        "    li2.append(ele)\n",
        "\n",
        "  return li2    \n"
      ],
      "metadata": {
        "id": "zNLCbDTWEH-I"
      },
      "execution_count": null,
      "outputs": []
    },
    {
      "cell_type": "code",
      "source": [
        "next_in_line([5,6,7,8,9],1)"
      ],
      "metadata": {
        "colab": {
          "base_uri": "https://localhost:8080/"
        },
        "id": "djflr6ysE9qY",
        "outputId": "8597bbef-6c26-47fb-a102-f3ff9dfb99b0"
      },
      "execution_count": null,
      "outputs": [
        {
          "output_type": "execute_result",
          "data": {
            "text/plain": [
              "[6, 7, 8, 9, 1]"
            ]
          },
          "metadata": {},
          "execution_count": 8
        }
      ]
    },
    {
      "cell_type": "code",
      "source": [
        "next_in_line([],6)\n"
      ],
      "metadata": {
        "colab": {
          "base_uri": "https://localhost:8080/",
          "height": 36
        },
        "id": "dPauq4NvFBQV",
        "outputId": "e3d1dfb8-0411-4dcd-c19c-ed9a09ab96db"
      },
      "execution_count": null,
      "outputs": [
        {
          "output_type": "execute_result",
          "data": {
            "text/plain": [
              "'no list has been selected'"
            ],
            "application/vnd.google.colaboratory.intrinsic+json": {
              "type": "string"
            }
          },
          "metadata": {},
          "execution_count": 10
        }
      ]
    },
    {
      "cell_type": "markdown",
      "source": [
        "Question2\n",
        "Create the function that takes a list of dictionaries and returns the sum of people&#39;s budgets.\n",
        "Examples\n",
        "get_budgets([\n",
        "{ &quot;name&quot;: &quot;John&quot;, &quot;age&quot;: 21, &quot;budget&quot;: 23000 },\n",
        "{ &quot;name&quot;: &quot;Steve&quot;, &quot;age&quot;: 32, &quot;budget&quot;: 40000 },\n",
        "{ &quot;name&quot;: &quot;Martin&quot;, &quot;age&quot;: 16, &quot;budget&quot;: 2700 }\n",
        "]) ➞ 65700\n",
        "get_budgets([\n",
        "{ &quot;name&quot;: &quot;John&quot;, &quot;age&quot;: 21, &quot;budget&quot;: 29000 },\n",
        "{ &quot;name&quot;: &quot;Steve&quot;, &quot;age&quot;: 32, &quot;budget&quot;: 32000 },\n",
        "{ &quot;name&quot;: &quot;Martin&quot;, &quot;age&quot;: 16, &quot;budget&quot;: 1600 }\n",
        "]) ➞ 62600"
      ],
      "metadata": {
        "id": "9uZfPcIZFqbZ"
      }
    },
    {
      "cell_type": "code",
      "source": [
        "def get_budgets(li):\n",
        "  sum = 0\n",
        "  for i in li:\n",
        "    sum = sum + i[\"budget\"]\n",
        "\n",
        "  return sum  \n"
      ],
      "metadata": {
        "id": "BQy6i3vOFHHJ"
      },
      "execution_count": null,
      "outputs": []
    },
    {
      "cell_type": "code",
      "source": [
        "\n",
        "li= [{\"name\" : \"John\" , \"age\" : 21 , \"budget\" : 23000},\n",
        "    {\"name\" : \"Steve\" , \"age\" : 32 , \"budget\" : 40000},\n",
        "    {\"name\" : \"Martin\" , \"age\" : 16 ,\"budget\" : 2700}]"
      ],
      "metadata": {
        "id": "j9ysplJ5Fk4u"
      },
      "execution_count": null,
      "outputs": []
    },
    {
      "cell_type": "code",
      "source": [
        "get_budgets(li)"
      ],
      "metadata": {
        "colab": {
          "base_uri": "https://localhost:8080/"
        },
        "id": "a4DoWUDsHHOK",
        "outputId": "e9c7fb9c-62ee-4a28-a7ce-e49e465a8e2a"
      },
      "execution_count": null,
      "outputs": [
        {
          "output_type": "execute_result",
          "data": {
            "text/plain": [
              "65700"
            ]
          },
          "metadata": {},
          "execution_count": 21
        }
      ]
    },
    {
      "cell_type": "markdown",
      "source": [
        "Question3\n",
        "Create a function that takes a string and returns a string with its letters in alphabetical order.\n",
        "Examples\n",
        "alphabet_soup(&quot;hello&quot;) ➞ &quot;ehllo&quot;\n",
        "alphabet_soup(&quot;edabit&quot;) ➞ &quot;abdeit&quot;\n",
        "alphabet_soup(&quot;hacker&quot;) ➞ &quot;acehkr&quot;\n",
        "alphabet_soup(&quot;geek&quot;) ➞ &quot;eegk&quot;\n",
        "alphabet_soup(&quot;javascript&quot;) ➞ &quot;aacijprstv&quot;"
      ],
      "metadata": {
        "id": "3qTRYZWGIVY5"
      }
    },
    {
      "cell_type": "code",
      "source": [
        "def alphabet_soup(str1):\n",
        "  str2 = \"\"\n",
        "  li = sorted(str1)\n",
        "  for i in li:\n",
        "    str2 = str2+i\n",
        "\n",
        "  return str2  "
      ],
      "metadata": {
        "id": "0VHr6WKzHYqW"
      },
      "execution_count": null,
      "outputs": []
    },
    {
      "cell_type": "code",
      "source": [
        "alphabet_soup(\"hello\")"
      ],
      "metadata": {
        "colab": {
          "base_uri": "https://localhost:8080/",
          "height": 36
        },
        "id": "bAH8QoevHhWy",
        "outputId": "6e7fd4a7-d544-420c-ea3d-7458f10919b9"
      },
      "execution_count": null,
      "outputs": [
        {
          "output_type": "execute_result",
          "data": {
            "text/plain": [
              "'ehllo'"
            ],
            "application/vnd.google.colaboratory.intrinsic+json": {
              "type": "string"
            }
          },
          "metadata": {},
          "execution_count": 33
        }
      ]
    },
    {
      "cell_type": "markdown",
      "source": [
        "Question4\n",
        "Suppose that you invest $10,000 for 10 years at an interest rate of 6% compounded monthly.\n",
        "What will be the value of your investment at the end of the 10 year period?\n",
        "Create a function that accepts the principal p, the term in years t, the interest rate r, and the\n",
        "number of compounding periods per year n. The function returns the value at the end of term\n",
        "rounded to the nearest cent.\n",
        "For the example above:\n",
        "compound_interest(10000, 10, 0.06, 12) ➞ 18193.97\n",
        "Note that the interest rate is given as a decimal and n=12 because with monthly compounding\n",
        "there are 12 periods per year. Compounding can also be done annually, quarterly, weekly, or\n",
        "daily.\n",
        "Examples\n",
        "compound_interest(100, 1, 0.05, 1) ➞ 105.0\n",
        "compound_interest(3500, 15, 0.1, 4) ➞ 15399.26\n",
        "compound_interest(100000, 20, 0.15, 365) ➞ 2007316.26"
      ],
      "metadata": {
        "id": "afPlKGeEJZtc"
      }
    },
    {
      "cell_type": "code",
      "source": [
        "def compound_interest(p,t,r)"
      ],
      "metadata": {
        "id": "PvF_7xr2IC0z"
      },
      "execution_count": null,
      "outputs": []
    },
    {
      "cell_type": "markdown",
      "source": [
        "Question5\n",
        "Write a function that takes a list of elements and returns only the integers.\n",
        "Examples\n",
        "return_only_integer([9, 2, &quot;space&quot;, &quot;car&quot;, &quot;lion&quot;, 16]) ➞ [9, 2, 16]\n",
        "return_only_integer([&quot;hello&quot;, 81, &quot;basketball&quot;, 123, &quot;fox&quot;]) ➞ [81, 123]\n",
        "return_only_integer([10, &quot;121&quot;, 56, 20, &quot;car&quot;, 3, &quot;lion&quot;]) ➞ [10, 56, 20,\n",
        "3]\n",
        "return_only_integer([&quot;String&quot;, True, 3.3, 1]) ➞ [1]"
      ],
      "metadata": {
        "id": "iGFWQIv-vu39"
      }
    },
    {
      "cell_type": "code",
      "source": [
        "def return_only_integer(li):\n",
        "  li2 = []\n",
        "  for i in li:\n",
        "    if type(i) == int:\n",
        "      li2.append(i)\n",
        "\n",
        "  return li2   "
      ],
      "metadata": {
        "id": "o80Xy5THvviI"
      },
      "execution_count": 10,
      "outputs": []
    },
    {
      "cell_type": "code",
      "source": [
        "return_only_integer([9,2,\"space\",\"car\",\"lion\",16])"
      ],
      "metadata": {
        "colab": {
          "base_uri": "https://localhost:8080/"
        },
        "id": "1SWRe4IjwELG",
        "outputId": "3f3ed53b-e06d-4102-ab22-21fa1cf50b6b"
      },
      "execution_count": 11,
      "outputs": [
        {
          "output_type": "execute_result",
          "data": {
            "text/plain": [
              "[9, 2, 16]"
            ]
          },
          "metadata": {},
          "execution_count": 11
        }
      ]
    },
    {
      "cell_type": "code",
      "source": [],
      "metadata": {
        "id": "iTViv8CywKwj"
      },
      "execution_count": null,
      "outputs": []
    }
  ]
}