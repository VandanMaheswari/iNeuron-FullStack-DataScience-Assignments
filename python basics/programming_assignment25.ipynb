{
  "nbformat": 4,
  "nbformat_minor": 0,
  "metadata": {
    "colab": {
      "provenance": []
    },
    "kernelspec": {
      "name": "python3",
      "display_name": "Python 3"
    },
    "language_info": {
      "name": "python"
    }
  },
  "cells": [
    {
      "cell_type": "markdown",
      "source": [
        "\n",
        "Question1\n",
        "Create a function that takes three integer arguments (a, b, c) and returns the amount of\n",
        "integers which are of equal value.\n",
        "Examples\n",
        "equal(3, 4, 3) ➞ 2\n",
        "equal(1, 1, 1) ➞ 3\n",
        "equal(3, 4, 1) ➞ 0\n",
        "Notes\n",
        "Your function must return 0, 2 or 3."
      ],
      "metadata": {
        "id": "lH1515w1lBCI"
      }
    },
    {
      "cell_type": "code",
      "execution_count": 1,
      "metadata": {
        "colab": {
          "base_uri": "https://localhost:8080/"
        },
        "id": "XLgAhk-3lAfQ",
        "outputId": "0c527159-43a5-400e-caba-5df37ae2b8f6"
      },
      "outputs": [
        {
          "output_type": "execute_result",
          "data": {
            "text/plain": [
              "2"
            ]
          },
          "metadata": {},
          "execution_count": 1
        }
      ],
      "source": [
        "def equal(a,b,c):\n",
        "    num = 0\n",
        "    if a == b and a == c :\n",
        "        num = 3\n",
        "    elif a == b or a == c :\n",
        "        num = 2\n",
        "    else:\n",
        "        num = 0\n",
        "    return num\n",
        "equal(3, 4, 3)"
      ]
    },
    {
      "cell_type": "code",
      "source": [
        "equal(3, 4, 3)"
      ],
      "metadata": {
        "colab": {
          "base_uri": "https://localhost:8080/"
        },
        "id": "a9pfwOVnlKZT",
        "outputId": "22199106-8369-4390-8647-714227c49f27"
      },
      "execution_count": 2,
      "outputs": [
        {
          "output_type": "execute_result",
          "data": {
            "text/plain": [
              "2"
            ]
          },
          "metadata": {},
          "execution_count": 2
        }
      ]
    },
    {
      "cell_type": "markdown",
      "source": [
        "Question2\n",
        "Write a function that converts a dictionary into a list of keys-values tuples.\n",
        "Examples\n",
        "dict_to_list({\n",
        "'D': 1,\n",
        "'B': 2,\n",
        "'C': 3\n",
        "}) ➞ [('B', 2), ('C', 3), ('D', 1)]\n",
        "dict_to_list({\n",
        "'likes': 2,\n",
        "'dislikes': 3,\n",
        "'followers': 10\n",
        "}) ➞ [('dislikes', 3), ('followers', 10), ('likes', 2)]\n",
        "Notes\n",
        "Return the elements in the list in alphabetical order."
      ],
      "metadata": {
        "id": "G8ThJaD9lPAp"
      }
    },
    {
      "cell_type": "code",
      "source": [
        "def dict_to_list(d):\n",
        "    return list(d.items())"
      ],
      "metadata": {
        "id": "Zx5P2NadlMdD"
      },
      "execution_count": 3,
      "outputs": []
    },
    {
      "cell_type": "code",
      "source": [
        "dict_to_list({\n",
        "    'D': 1,\n",
        "    'B': 2,\n",
        "    'C': 3\n",
        "    })"
      ],
      "metadata": {
        "colab": {
          "base_uri": "https://localhost:8080/"
        },
        "id": "sGPi5tM3lSDq",
        "outputId": "e275292f-134f-4a12-cf25-7555ce731b6e"
      },
      "execution_count": 4,
      "outputs": [
        {
          "output_type": "execute_result",
          "data": {
            "text/plain": [
              "[('D', 1), ('B', 2), ('C', 3)]"
            ]
          },
          "metadata": {},
          "execution_count": 4
        }
      ]
    },
    {
      "cell_type": "markdown",
      "source": [
        "\n",
        "Question3\n",
        "Write a function that creates a dictionary with each (key, value) pair being the (lower case,\n",
        "upper case) versions of a letter, respectively.\n",
        "Examples\n",
        "mapping(['p', 's']) ➞ { 'p': 'P', 's': 'S' }\n",
        "\n",
        "mapping(['a', 'b', 'c']) ➞ { 'a': 'A', 'b': 'B', 'c': 'C' }\n",
        "mapping(['a', 'v', 'y', 'z']) ➞ { 'a': 'A', 'v': 'V', 'y': 'Y', 'z': 'Z' }\n",
        "Notes\n",
        "All of the letters in the input list will always be lowercase."
      ],
      "metadata": {
        "id": "f1KNlcOhlaBK"
      }
    },
    {
      "cell_type": "code",
      "source": [
        "def mapping(lst):\n",
        "    return {v.lower():v.upper() for v in lst}"
      ],
      "metadata": {
        "id": "ZPQcBX9SlUwM"
      },
      "execution_count": 5,
      "outputs": []
    },
    {
      "cell_type": "code",
      "source": [
        "\n",
        "mapping(['p', 's'])"
      ],
      "metadata": {
        "colab": {
          "base_uri": "https://localhost:8080/"
        },
        "id": "W-N9bOnslb0M",
        "outputId": "5a32c50f-f1f4-4e7f-d626-eb43f2837359"
      },
      "execution_count": 6,
      "outputs": [
        {
          "output_type": "execute_result",
          "data": {
            "text/plain": [
              "{'p': 'P', 's': 'S'}"
            ]
          },
          "metadata": {},
          "execution_count": 6
        }
      ]
    },
    {
      "cell_type": "markdown",
      "source": [
        "\n",
        "Question4\n",
        "Write a function, that replaces all vowels in a string with a specified vowel.\n",
        "Examples\n",
        "vow_replace('apples and bananas', 'u') ➞ 'upplus und bununus'\n",
        "vow_replace('cheese casserole', 'o') ➞ 'chooso cossorolo'\n",
        "vow_replace('stuffed jalapeno poppers', 'e') ➞ 'steffed jelepene peppers'\n",
        "Notes\n",
        "All words will be lowercase. Y is not considered a vowel.\n"
      ],
      "metadata": {
        "id": "PFICKUMQlgC1"
      }
    },
    {
      "cell_type": "code",
      "source": [
        "def vow_replace(s,ch):\n",
        "    vowel ='AEIOUaeiuo'\n",
        "    s1 = []\n",
        "    for i in range(len(s)):\n",
        "        if s[i] in vowel:\n",
        "            s1.append(ch)\n",
        "        else:\n",
        "            s1.append(s[i])\n",
        "\n",
        "    return ''.join((s1))"
      ],
      "metadata": {
        "id": "zdVSTXpcld6k"
      },
      "execution_count": 7,
      "outputs": []
    },
    {
      "cell_type": "code",
      "source": [
        "vow_replace('apples and bananas', 'u')"
      ],
      "metadata": {
        "colab": {
          "base_uri": "https://localhost:8080/",
          "height": 36
        },
        "id": "9IhWRLdtlhtV",
        "outputId": "393cefcd-2260-4259-b285-1de7aabb4225"
      },
      "execution_count": 8,
      "outputs": [
        {
          "output_type": "execute_result",
          "data": {
            "text/plain": [
              "'upplus und bununus'"
            ],
            "application/vnd.google.colaboratory.intrinsic+json": {
              "type": "string"
            }
          },
          "metadata": {},
          "execution_count": 8
        }
      ]
    },
    {
      "cell_type": "code",
      "source": [],
      "metadata": {
        "id": "-ddrBkOAljsR"
      },
      "execution_count": null,
      "outputs": []
    },
    {
      "cell_type": "markdown",
      "source": [
        "Question5\n",
        "Create a function that takes a string as input and capitalizes a letter if its ASCII code is even\n",
        "and returns its lower case version if its ASCII code is odd.\n",
        "Examples\n",
        "ascii_capitalize('to be or not to be!') ➞ 'To Be oR NoT To Be!'\n",
        "ascii_capitalize('THE LITTLE MERMAID') ➞ 'THe LiTTLe meRmaiD'\n",
        "ascii_capitalize('Oh what a beautiful morning.') ➞ 'oH wHaT a BeauTiFuL\n",
        "moRNiNg.'"
      ],
      "metadata": {
        "id": "ydms_ZfYll3w"
      }
    },
    {
      "cell_type": "code",
      "source": [
        "def ascii_capitalize(s):\n",
        "    s1 = []\n",
        "    for i in range(len(s)):\n",
        "        if ord(s[i]) % 2 == 0:\n",
        "            s1.append(s[i].upper())\n",
        "        else:\n",
        "            s1.append(s[i].lower())\n",
        "\n",
        "    return \"\".join((s1))"
      ],
      "metadata": {
        "id": "1sMgqvU7lmOx"
      },
      "execution_count": 9,
      "outputs": []
    },
    {
      "cell_type": "code",
      "source": [
        "ascii_capitalize('to be or not to be!')"
      ],
      "metadata": {
        "colab": {
          "base_uri": "https://localhost:8080/",
          "height": 36
        },
        "id": "y9kLIdFXlnms",
        "outputId": "3993b416-2144-424f-c339-22ff38f6db66"
      },
      "execution_count": 10,
      "outputs": [
        {
          "output_type": "execute_result",
          "data": {
            "text/plain": [
              "'To Be oR NoT To Be!'"
            ],
            "application/vnd.google.colaboratory.intrinsic+json": {
              "type": "string"
            }
          },
          "metadata": {},
          "execution_count": 10
        }
      ]
    },
    {
      "cell_type": "code",
      "source": [],
      "metadata": {
        "id": "eokS6sb-lpWs"
      },
      "execution_count": null,
      "outputs": []
    }
  ]
}