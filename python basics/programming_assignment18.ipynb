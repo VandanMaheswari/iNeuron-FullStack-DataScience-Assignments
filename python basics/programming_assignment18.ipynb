{
  "nbformat": 4,
  "nbformat_minor": 0,
  "metadata": {
    "colab": {
      "provenance": []
    },
    "kernelspec": {
      "name": "python3",
      "display_name": "Python 3"
    },
    "language_info": {
      "name": "python"
    }
  },
  "cells": [
    {
      "cell_type": "markdown",
      "source": [
        "Question 1\n",
        "Create a function that takes a list of non-negative integers and strings and return a new list\n",
        "without the strings.\n",
        "Examples\n",
        "filter_list([1, 2, &quot;a&quot;, &quot;b&quot;]) ➞ [1, 2]\n",
        "filter_list([1, &quot;a&quot;, &quot;b&quot;, 0, 15]) ➞ [1, 0, 15]\n",
        "filter_list([1, 2, &quot;aasf&quot;, &quot;1&quot;, &quot;123&quot;, 123]) ➞ [1, 2, 123]"
      ],
      "metadata": {
        "id": "ekO-QwdgYCJE"
      }
    },
    {
      "cell_type": "code",
      "execution_count": 2,
      "metadata": {
        "colab": {
          "base_uri": "https://localhost:8080/"
        },
        "id": "A8qdZ0MwX0sk",
        "outputId": "bc2b6676-891a-4ef3-da7f-674b17bc52d9"
      },
      "outputs": [
        {
          "output_type": "execute_result",
          "data": {
            "text/plain": [
              "[1, 0, 15]"
            ]
          },
          "metadata": {},
          "execution_count": 2
        }
      ],
      "source": [
        "def func(li):\n",
        "  li2 = []\n",
        "  for i in li:\n",
        "    if type(i) == int:\n",
        "      li2.append(i)\n",
        "\n",
        "  return li2\n",
        "\n",
        "func([1,'a','b',0,15])"
      ]
    },
    {
      "cell_type": "markdown",
      "source": [
        "Question 2\n",
        "The &quot;Reverser&quot; takes a string as input and returns that string in reverse order, with the\n",
        "opposite case.\n",
        "Examples\n",
        "reverse(&quot;Hello World&quot;) ➞ &quot;DLROw OLLEh&quot;\n",
        "reverse(&quot;ReVeRsE&quot;) ➞ &quot;eSrEvEr&quot;\n",
        "reverse(&quot;Radar&quot;) ➞ &quot;RADAr&quot;"
      ],
      "metadata": {
        "id": "7U9Z3nYyYp0r"
      }
    },
    {
      "cell_type": "code",
      "source": [
        "def reverse(str1):\n",
        "  str2 = \"\"\n",
        "  for i in str1:\n",
        "    if i.islower() == True:\n",
        "      str2 = i.upper() + str2\n",
        "    elif i.isupper() == True:\n",
        "      str2 = i.lower() + str2\n",
        "    else :\n",
        "      str2 = i + str2    \n",
        "\n",
        "  return str2    "
      ],
      "metadata": {
        "id": "ToUfBHjCYXnH"
      },
      "execution_count": 18,
      "outputs": []
    },
    {
      "cell_type": "code",
      "source": [
        "reverse(\"Hello World\")"
      ],
      "metadata": {
        "colab": {
          "base_uri": "https://localhost:8080/",
          "height": 36
        },
        "id": "BkRAm7rQYtOr",
        "outputId": "148b2d3b-ad0a-46a6-c943-2fc84525b5b4"
      },
      "execution_count": 19,
      "outputs": [
        {
          "output_type": "execute_result",
          "data": {
            "text/plain": [
              "'DLROw OLLEh'"
            ],
            "application/vnd.google.colaboratory.intrinsic+json": {
              "type": "string"
            }
          },
          "metadata": {},
          "execution_count": 19
        }
      ]
    },
    {
      "cell_type": "markdown",
      "source": [
        "Question 3\n",
        "You can assign variables from lists like this:\n",
        "lst = [1, 2, 3, 4, 5, 6]\n",
        "first = lst[0]\n",
        "middle = lst[1:-1]\n",
        "last = lst[-1]\n",
        "print(first) ➞ outputs 1\n",
        "print(middle) ➞ outputs [2, 3, 4, 5]\n",
        "print(last) ➞ outputs 6\n",
        "With Python 3, you can assign variables from lists in a much more succinct way. Create\n",
        "variables first, middle and last from the given list using destructuring assignment\n",
        "(check the Resources tab for some examples), where:\n",
        "first ➞ 1\n",
        "middle ➞ [2, 3, 4, 5]\n",
        "last ➞ 6\n",
        "\n",
        "Your task is to unpack the list writeyourcodehere into three variables, being first,\n",
        "middle, and last, with middle being everything in between the first and last element. Then\n",
        "print all three variables."
      ],
      "metadata": {
        "id": "4BPwUJtQcjwB"
      }
    },
    {
      "cell_type": "code",
      "source": [
        "li = [1,2,3,4,5,6]\n",
        "first = []\n",
        "middle = []\n",
        "last = []\n",
        "\n",
        "for i in range(len(li)):\n",
        "  if i == 0:\n",
        "    first = li[i]\n",
        "  elif i == (len(li)-1):\n",
        "    last = li[i]\n",
        "  else:\n",
        "    middle.append(li[i])  \n",
        "\n"
      ],
      "metadata": {
        "id": "lwcx0ctOZY4b"
      },
      "execution_count": 24,
      "outputs": []
    },
    {
      "cell_type": "code",
      "source": [
        "first"
      ],
      "metadata": {
        "colab": {
          "base_uri": "https://localhost:8080/"
        },
        "id": "sGZ21XiAdZWT",
        "outputId": "2c2490fd-c31f-4715-973e-22321ed8f277"
      },
      "execution_count": 25,
      "outputs": [
        {
          "output_type": "execute_result",
          "data": {
            "text/plain": [
              "1"
            ]
          },
          "metadata": {},
          "execution_count": 25
        }
      ]
    },
    {
      "cell_type": "code",
      "source": [
        "middle"
      ],
      "metadata": {
        "colab": {
          "base_uri": "https://localhost:8080/"
        },
        "id": "3wfiKktidaH_",
        "outputId": "a5147a1f-8730-4150-8215-80c8eb7f2597"
      },
      "execution_count": 26,
      "outputs": [
        {
          "output_type": "execute_result",
          "data": {
            "text/plain": [
              "[2, 3, 4, 5]"
            ]
          },
          "metadata": {},
          "execution_count": 26
        }
      ]
    },
    {
      "cell_type": "code",
      "source": [
        "last"
      ],
      "metadata": {
        "colab": {
          "base_uri": "https://localhost:8080/"
        },
        "id": "BQM0cgIndayh",
        "outputId": "fdc1f061-8223-4f83-eb13-4cce2876e237"
      },
      "execution_count": 27,
      "outputs": [
        {
          "output_type": "execute_result",
          "data": {
            "text/plain": [
              "6"
            ]
          },
          "metadata": {},
          "execution_count": 27
        }
      ]
    },
    {
      "cell_type": "markdown",
      "source": [
        "Question 4\n",
        "Write a function that calculates the factorial of a number recursively.\n",
        "Examples\n",
        "factorial(5) ➞ 120\n",
        "factorial(3) ➞ 6\n",
        "factorial(1) ➞ 1\n",
        "factorial(0) ➞ 1"
      ],
      "metadata": {
        "id": "9z4IPE9adkHM"
      }
    },
    {
      "cell_type": "code",
      "source": [
        "def recur_factorial(n):\n",
        "   if n == 1:\n",
        "       return n\n",
        "   else:\n",
        "       return n*recur_factorial(n-1)\n",
        "\n",
        "\n",
        "recur_factorial(5)       "
      ],
      "metadata": {
        "id": "S1VtixRSdbKK",
        "colab": {
          "base_uri": "https://localhost:8080/"
        },
        "outputId": "98ba4e3b-cabd-4930-aab1-5d295480d029"
      },
      "execution_count": 29,
      "outputs": [
        {
          "output_type": "execute_result",
          "data": {
            "text/plain": [
              "120"
            ]
          },
          "metadata": {},
          "execution_count": 29
        }
      ]
    },
    {
      "cell_type": "markdown",
      "source": [
        "Question 5\n",
        "Write a function that moves all elements of one type to the end of the list.\n",
        "Examples\n",
        "move_to_end([1, 3, 2, 4, 4, 1], 1) ➞ [3, 2, 4, 4, 1, 1]\n",
        "# Move all the 1s to the end of the array.\n",
        "move_to_end([7, 8, 9, 1, 2, 3, 4], 9) ➞ [7, 8, 1, 2, 3, 4, 9]\n",
        "move_to_end([&quot;a&quot;, &quot;a&quot;, &quot;a&quot;, &quot;b&quot;], &quot;a&quot;) ➞ [&quot;b&quot;, &quot;a&quot;, &quot;a&quot;, &quot;a&quot;]"
      ],
      "metadata": {
        "id": "KSmuHlVIgjqr"
      }
    },
    {
      "cell_type": "code",
      "source": [
        "def func(li):\n",
        "\n",
        "  li2 = []\n",
        "  for i in li:\n",
        "    if type(i) == list:\n",
        "      for j in i:\n",
        "        li2.append(j)\n",
        "    else:\n",
        "      li2.append(i)\n",
        "  \n",
        "  li = []\n",
        "  ele = li2[-1]\n",
        "  for i in li2:\n",
        "    if ele == i:\n",
        "      li.append(i)\n",
        "  li1 = []\n",
        "  for i in li2:\n",
        "    if i not in li:\n",
        "      li1.append(i)    \n",
        "  \n",
        "  li3 = li1+li\n",
        "  return li3"
      ],
      "metadata": {
        "id": "r9I0ruS7gzdY"
      },
      "execution_count": 43,
      "outputs": []
    },
    {
      "cell_type": "code",
      "source": [
        "li = ([1,3,2,4,4,1],1)\n",
        "func(li)"
      ],
      "metadata": {
        "colab": {
          "base_uri": "https://localhost:8080/"
        },
        "id": "ccpLKABuhJxn",
        "outputId": "a715060c-fb9b-40da-b9c9-f008349a1439"
      },
      "execution_count": 44,
      "outputs": [
        {
          "output_type": "execute_result",
          "data": {
            "text/plain": [
              "[3, 2, 4, 4, 1, 1, 1]"
            ]
          },
          "metadata": {},
          "execution_count": 44
        }
      ]
    },
    {
      "cell_type": "code",
      "source": [],
      "metadata": {
        "colab": {
          "base_uri": "https://localhost:8080/"
        },
        "id": "tEbB8L4fhONl",
        "outputId": "51dc3333-3c6b-4583-e532-d31fcb493652"
      },
      "execution_count": 36,
      "outputs": [
        {
          "output_type": "execute_result",
          "data": {
            "text/plain": [
              "[3, 3]"
            ]
          },
          "metadata": {},
          "execution_count": 36
        }
      ]
    },
    {
      "cell_type": "code",
      "source": [],
      "metadata": {
        "id": "7yC5eA_ihkhD"
      },
      "execution_count": 35,
      "outputs": []
    }
  ]
}