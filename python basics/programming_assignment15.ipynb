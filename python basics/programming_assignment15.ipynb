{
  "nbformat": 4,
  "nbformat_minor": 0,
  "metadata": {
    "colab": {
      "provenance": []
    },
    "kernelspec": {
      "name": "python3",
      "display_name": "Python 3"
    },
    "language_info": {
      "name": "python"
    }
  },
  "cells": [
    {
      "cell_type": "markdown",
      "source": [
        "Question 1:\n",
        "Please write a program using generator to print the numbers which can be divisible by 5 and\n",
        "7 between 0 and n in comma separated form while n is input by console.\n",
        "Example:\n",
        "If the following n is given as input to the program:\n",
        "100\n",
        "Then, the output of the program should be:\n",
        "0,35,70"
      ],
      "metadata": {
        "id": "TkxyYY-AyxrV"
      }
    },
    {
      "cell_type": "code",
      "execution_count": null,
      "metadata": {
        "colab": {
          "base_uri": "https://localhost:8080/"
        },
        "id": "etl61z6vyX6S",
        "outputId": "e81c1148-3ed7-4bc8-fe07-4341967b1d7b"
      },
      "outputs": [
        {
          "output_type": "stream",
          "name": "stdout",
          "text": [
            "enter n : 100\n",
            "0,35,70\n"
          ]
        }
      ],
      "source": [
        "def gen_func():\n",
        "  n = int(input(\"enter n : \"))\n",
        "  for i in range(0,n):\n",
        "    if i%5 == 0 and i%7 == 0:\n",
        "      yield i\n",
        "k = gen_func()\n",
        "n1 = []\n",
        "for i in k:\n",
        "  n1.append(str(i))\n",
        "\n",
        "print(\",\".join(n1))"
      ]
    },
    {
      "cell_type": "markdown",
      "source": [
        "Question 2:\n",
        "Please write a program using generator to print the even numbers between 0 and n in comma\n",
        "separated form while n is input by console.\n",
        "Example:\n",
        "If the following n is given as input to the program:\n",
        "10\n",
        "Then, the output of the program should be:\n",
        "0,2,4,6,8,10"
      ],
      "metadata": {
        "id": "erG1Uvfa3PMP"
      }
    },
    {
      "cell_type": "code",
      "source": [
        "def gen_func():\n",
        "  n = int(input(\"enter n : \"))\n",
        "  for i in range(0,n+1):\n",
        "    if i % 2 == 0:\n",
        "      yield i\n",
        "\n",
        "k = gen_func()\n",
        "n1 = []\n",
        "for i in k:\n",
        "  n1.append(str(i))\n",
        "\n",
        "print(\",\".join(n1))\n"
      ],
      "metadata": {
        "colab": {
          "base_uri": "https://localhost:8080/"
        },
        "id": "o_aKCPxf0C1y",
        "outputId": "26c60aec-55b3-47ad-da66-768f1b4f4963"
      },
      "execution_count": null,
      "outputs": [
        {
          "output_type": "stream",
          "name": "stdout",
          "text": [
            "enter n : 10\n",
            "0,2,4,6,8,10\n"
          ]
        }
      ]
    },
    {
      "cell_type": "markdown",
      "source": [
        "Question 3:\n",
        "The Fibonacci Sequence is computed based on the following formula:\n",
        "f(n)=0 if n=0\n",
        "f(n)=1 if n=1\n",
        "f(n)=f(n-1)+f(n-2) if n&gt;1\n",
        "Please write a program using list comprehension to print the Fibonacci Sequence in comma\n",
        "separated form with a given n input by console.\n",
        "Example:\n",
        "If the following n is given as input to the program:\n",
        "7\n",
        "\n",
        "Then, the output of the program should be:\n",
        "0,1,1,2,3,5,8,13"
      ],
      "metadata": {
        "id": "9rYhUcnq-SIu"
      }
    },
    {
      "cell_type": "code",
      "source": [
        "li = []\n",
        "nterms = int(input(\"How many terms? \"))\n",
        "\n",
        "n1, n2 = 0, 1\n",
        "count = 0\n",
        "\n",
        "if nterms <= 0:\n",
        "   print(\"Please enter a positive integer\")\n",
        "elif nterms == 1:\n",
        "   print(\"Fibonacci sequence upto\",nterms,\":\")\n",
        "   print(n1)\n",
        "else:\n",
        "   print(\"Fibonacci sequence:\")\n",
        "   while count <= nterms:\n",
        "       li.append(str(n1))\n",
        "       nth = n1 + n2\n",
        "       n1 = n2\n",
        "       n2 = nth\n",
        "       count += 1\n",
        "\n",
        "print(\",\".join(li))"
      ],
      "metadata": {
        "colab": {
          "base_uri": "https://localhost:8080/"
        },
        "id": "A2T_67b93vm0",
        "outputId": "d8a94c83-5928-4b44-9494-5ace2a07cf07"
      },
      "execution_count": 22,
      "outputs": [
        {
          "output_type": "stream",
          "name": "stdout",
          "text": [
            "How many terms? 7\n",
            "Fibonacci sequence:\n",
            "0,1,1,2,3,5,8,13\n"
          ]
        }
      ]
    },
    {
      "cell_type": "markdown",
      "source": [
        "Question 4:\n",
        "Assuming that we have some email addresses in the &quot;username@companyname.com&quot; format,\n",
        "please write program to print the user name of a given email address. Both user names and\n",
        "company names are composed of letters only.\n",
        "Example:\n",
        "If the following email address is given as input to the program:\n",
        "john@google.com\n",
        "Then, the output of the program should be:\n",
        "john"
      ],
      "metadata": {
        "id": "nCNhBeM1Aolp"
      }
    },
    {
      "cell_type": "code",
      "source": [
        "string = input(\"enter email : \")\n",
        "\n",
        "li = string.split(\"@\")\n",
        "li[0]"
      ],
      "metadata": {
        "colab": {
          "base_uri": "https://localhost:8080/",
          "height": 53
        },
        "id": "xx_PF5cY5NkQ",
        "outputId": "a559a779-93e1-45a3-9311-5f3fa5017739"
      },
      "execution_count": 24,
      "outputs": [
        {
          "name": "stdout",
          "output_type": "stream",
          "text": [
            "enter email : jhon@gmail.com\n"
          ]
        },
        {
          "output_type": "execute_result",
          "data": {
            "text/plain": [
              "'jhon'"
            ],
            "application/vnd.google.colaboratory.intrinsic+json": {
              "type": "string"
            }
          },
          "metadata": {},
          "execution_count": 24
        }
      ]
    },
    {
      "cell_type": "markdown",
      "source": [
        "Question 5:\n",
        "Define a class named Shape and its subclass Square. The Square class has an init function\n",
        "which takes a length as argument. Both classes have a area function which can print the area\n",
        "of the shape where Shape&#39;s area is 0 by default."
      ],
      "metadata": {
        "id": "Uil_szAmBC-m"
      }
    },
    {
      "cell_type": "code",
      "source": [
        "class shape:\n",
        "  def area(self):\n",
        "    print(0)\n",
        "\n",
        "class square(shape):\n",
        "\n",
        " def __init__(self,length):\n",
        "    self.length = length\n",
        "    \n",
        " def area(self):\n",
        "   print(self.length**2)   \n"
      ],
      "metadata": {
        "id": "rQR5tKpWAwKb"
      },
      "execution_count": 39,
      "outputs": []
    },
    {
      "cell_type": "code",
      "source": [
        "s = shape()\n",
        "s.area()\n",
        "sq = square(4)\n",
        "sq.area()"
      ],
      "metadata": {
        "colab": {
          "base_uri": "https://localhost:8080/"
        },
        "id": "Biv0Y9DvBJOa",
        "outputId": "2963b2d9-6493-4963-e9cc-fe52196c7cd6"
      },
      "execution_count": 40,
      "outputs": [
        {
          "output_type": "stream",
          "name": "stdout",
          "text": [
            "0\n",
            "16\n"
          ]
        }
      ]
    },
    {
      "cell_type": "code",
      "source": [],
      "metadata": {
        "id": "_YhvxdbdBLjp"
      },
      "execution_count": null,
      "outputs": []
    }
  ]
}