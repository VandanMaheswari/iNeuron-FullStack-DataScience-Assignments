{
  "nbformat": 4,
  "nbformat_minor": 0,
  "metadata": {
    "colab": {
      "provenance": []
    },
    "kernelspec": {
      "name": "python3",
      "display_name": "Python 3"
    },
    "language_info": {
      "name": "python"
    }
  },
  "cells": [
    {
      "cell_type": "markdown",
      "source": [
        "1. Write a Python program to Extract Unique values dictionary values?"
      ],
      "metadata": {
        "id": "at6Qk7JX1zka"
      }
    },
    {
      "cell_type": "code",
      "execution_count": null,
      "metadata": {
        "colab": {
          "base_uri": "https://localhost:8080/"
        },
        "id": "aum2PyOa1txU",
        "outputId": "499cb638-1ea4-47bf-fba3-d1daa17c20e6"
      },
      "outputs": [
        {
          "output_type": "stream",
          "name": "stdout",
          "text": [
            "the orginal dictionary is {'one': [1, 6, 7, 8], 'two': [3, 8, 3, 1, 1], 'three': [5, 4, 2, 9]}\n",
            "this is the new list having all the unique values of the list :- [1, 2, 3, 4, 5, 6, 7, 8, 9]\n"
          ]
        }
      ],
      "source": [
        "dict_values = {\"one\" : [1,6,7,8],\n",
        "               \"two\" : [3,8,3,1,1],\n",
        "              \"three\": [5,4,2,9]} \n",
        " \n",
        "\n",
        "print(f\"the orginal dictionary is {dict_values}\")\n",
        "\n",
        "x = []\n",
        "for i in dict_values.values():\n",
        "  for j in i:\n",
        "    x.append(j)\n",
        "    ## we are getting keys as a list so each element we store in a new list\n",
        "\n",
        "x = sorted(set(x)) \n",
        "# we know that set stores only unique values so we use this and sorted used to sort in ascending order \n",
        "\n",
        "print(f\"this is the new list having all the unique values of the list :- {x}\")"
      ]
    },
    {
      "cell_type": "markdown",
      "source": [
        "2. Write a Python program to find the sum of all items in a dictionary?"
      ],
      "metadata": {
        "id": "-qpytyGX4iuY"
      }
    },
    {
      "cell_type": "code",
      "source": [
        "dict_values = {\"one\" : 200,\n",
        "               \"two\" : 400,\n",
        "              \"three\": 890} \n",
        "sum = 0\n",
        "for i in dict_values.values():\n",
        "  sum = sum + i\n",
        "                \n",
        "print(f\"this is the sum of all items {sum}\")                "
      ],
      "metadata": {
        "colab": {
          "base_uri": "https://localhost:8080/"
        },
        "id": "nqdOHSmO2CUe",
        "outputId": "fdfd04a8-adc6-49b6-b503-e1a0101b2c78"
      },
      "execution_count": null,
      "outputs": [
        {
          "output_type": "stream",
          "name": "stdout",
          "text": [
            "this is the sum of all items 1490\n"
          ]
        }
      ]
    },
    {
      "cell_type": "markdown",
      "source": [
        "3. Write a Python program to Merging two Dictionaries?"
      ],
      "metadata": {
        "id": "8fU9LcCs5YA-"
      }
    },
    {
      "cell_type": "code",
      "source": [
        "dict1 = {\"car\" : \"tiago\"}\n",
        "dict2 = {\"bike\" : \"kawasaki\"}\n",
        "dict2.update(dict1)\n",
        "dict2\n",
        "\n",
        "# this is how we can merge dict1 in dict2"
      ],
      "metadata": {
        "colab": {
          "base_uri": "https://localhost:8080/"
        },
        "id": "rDBMRcVF48pv",
        "outputId": "dde15761-8ecc-48b9-c904-060f5cface8e"
      },
      "execution_count": null,
      "outputs": [
        {
          "output_type": "execute_result",
          "data": {
            "text/plain": [
              "{'bike': 'kawasaki', 'car': 'tiago'}"
            ]
          },
          "metadata": {},
          "execution_count": 39
        }
      ]
    },
    {
      "cell_type": "markdown",
      "source": [
        "4.Write a Python program to convert key-values list to flat dictionary?"
      ],
      "metadata": {
        "id": "x9K7cAic6nqQ"
      }
    },
    {
      "cell_type": "code",
      "source": [
        "li_keys = [1 , 2 , 3 , 4 ]\n",
        "li_values = [\"vandan\" , \"ankit\" , \"shooter\" , \"betu\"]\n",
        "dict1 = {}\n",
        "\n",
        "for i in range(len(li_keys)):\n",
        "\n",
        "  dict1.update({li_keys[i] : li_values[i]})\n",
        "\n",
        "print(dict1)\n",
        "\n",
        "# this is how we can convert the list of key and value as a dictionary"
      ],
      "metadata": {
        "colab": {
          "base_uri": "https://localhost:8080/"
        },
        "id": "iT0siHKA6uSE",
        "outputId": "b280fe72-3780-4703-9fa5-8bd659489a08"
      },
      "execution_count": null,
      "outputs": [
        {
          "output_type": "stream",
          "name": "stdout",
          "text": [
            "{1: 'vandan', 2: 'ankit', 3: 'shooter', 4: 'betu'}\n"
          ]
        }
      ]
    },
    {
      "cell_type": "markdown",
      "source": [
        "5. Write a Python program to insertion at the beginning in OrderedDict?"
      ],
      "metadata": {
        "id": "7Kg_RES_8KjD"
      }
    },
    {
      "cell_type": "code",
      "source": [
        "from collections import OrderedDict\n",
        "\n",
        "dict1 = OrderedDict([(1,100) , (2,200) , (3,300)])\n",
        "print(type(dict1))\n",
        "\n",
        "insert = OrderedDict([(4,400)])\n",
        "# insert.values()\n",
        "\n",
        "final = OrderedDict(list(insert.items()) + list(dict1.items())) \n",
        "print(final)\n",
        "# this is how we can insert at th begning"
      ],
      "metadata": {
        "colab": {
          "base_uri": "https://localhost:8080/"
        },
        "id": "s-gQt9rr60aH",
        "outputId": "632cd396-e447-4e00-f68b-078170429747"
      },
      "execution_count": null,
      "outputs": [
        {
          "output_type": "stream",
          "name": "stdout",
          "text": [
            "<class 'collections.OrderedDict'>\n",
            "OrderedDict([(4, 400), (1, 100), (2, 200), (3, 300)])\n"
          ]
        }
      ]
    },
    {
      "cell_type": "markdown",
      "source": [
        "6. Write a Python program to check order of character in string using OrderedDict()?"
      ],
      "metadata": {
        "id": "rwqfDoTI7zTc"
      }
    },
    {
      "cell_type": "code",
      "source": [
        "from collections import OrderedDict \n",
        "def checkOrder(string, pattern): \n",
        "    dic = OrderedDict.fromkeys(string) \n",
        "    ptr = 0\n",
        "    for key,value in dic.items(): \n",
        "        if (key == pattern[ptr]): \n",
        "            ptr = ptr + 1\n",
        "        if (ptr == (len(pattern))): \n",
        "            return 'True'\n",
        "    return 'False'\n",
        "\n",
        "string = 'Study tonight'\n",
        "pattern = 'stu'\n",
        "print (checkOrder(string,pattern))"
      ],
      "metadata": {
        "id": "fTqlMFRC9nim",
        "colab": {
          "base_uri": "https://localhost:8080/"
        },
        "outputId": "59efbdd2-c075-4e35-b467-63b418ba876a"
      },
      "execution_count": 1,
      "outputs": [
        {
          "output_type": "stream",
          "name": "stdout",
          "text": [
            "False\n"
          ]
        }
      ]
    },
    {
      "cell_type": "markdown",
      "source": [
        "7. Write a Python program to sort Python Dictionaries by Key or Value?"
      ],
      "metadata": {
        "id": "fKnXzMJV9Wue"
      }
    },
    {
      "cell_type": "code",
      "source": [
        "mydict = { 10 : \"vandann\" , 7 : \"raj\" , 4 : \"ankit\" , 2 : \"akshat\" }\n",
        "\n",
        "mykeys = sorted(list(mydict.keys()))\n",
        "sorted_dict = {}\n",
        "for i in mykeys:\n",
        "  sorted_dict.update({i : mydict[i]})\n",
        "\n",
        "sorted_dict  "
      ],
      "metadata": {
        "colab": {
          "base_uri": "https://localhost:8080/"
        },
        "id": "1G0xC1pq9LP8",
        "outputId": "9290485e-35e9-4da2-f7cc-3a89072fcfa6"
      },
      "execution_count": 10,
      "outputs": [
        {
          "output_type": "execute_result",
          "data": {
            "text/plain": [
              "{2: 'akshat', 4: 'ankit', 7: 'raj', 10: 'vandann'}"
            ]
          },
          "metadata": {},
          "execution_count": 10
        }
      ]
    },
    {
      "cell_type": "code",
      "source": [
        "\n"
      ],
      "metadata": {
        "id": "eNjlW7ql96Gu"
      },
      "execution_count": null,
      "outputs": []
    }
  ]
}