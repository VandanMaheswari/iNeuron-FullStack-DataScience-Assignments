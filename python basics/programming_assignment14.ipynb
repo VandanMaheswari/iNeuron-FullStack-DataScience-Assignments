{
  "nbformat": 4,
  "nbformat_minor": 0,
  "metadata": {
    "colab": {
      "provenance": []
    },
    "kernelspec": {
      "name": "python3",
      "display_name": "Python 3"
    },
    "language_info": {
      "name": "python"
    }
  },
  "cells": [
    {
      "cell_type": "markdown",
      "source": [
        "Define a class with a generator which can iterate the numbers, which are divisible by\n",
        "7, between a given range 0 and n."
      ],
      "metadata": {
        "id": "FBHg4pi8773X"
      }
    },
    {
      "cell_type": "code",
      "source": [
        "n = 60\n",
        "\n",
        "def gen_func(n):\n",
        "  for i in range(1,n):\n",
        "    if i % 7 ==0:\n",
        "      yield i\n",
        "\n",
        "k = gen_func(n)\n",
        "\n",
        "\n",
        "for i in k:\n",
        "  print(i)"
      ],
      "metadata": {
        "id": "CknJqGVJiYNd",
        "colab": {
          "base_uri": "https://localhost:8080/"
        },
        "outputId": "057e01b5-4b6d-4324-b176-dbea694187bb"
      },
      "execution_count": 4,
      "outputs": [
        {
          "output_type": "stream",
          "name": "stdout",
          "text": [
            "7\n",
            "14\n",
            "21\n",
            "28\n",
            "35\n",
            "42\n",
            "49\n",
            "56\n"
          ]
        }
      ]
    },
    {
      "cell_type": "markdown",
      "source": [
        "Write a program to compute the frequency of the words from the input. The output\n",
        "should output after sorting the key alphanumerically.\n",
        "Suppose the following input is supplied to the program:\n",
        "New to Python or choosing between Python 2 and Python 3? Read Python 2 or\n",
        "Python 3.\n",
        "Then, the output should be:\n",
        "2:2\n",
        "3.:1\n",
        "3?:1\n",
        "New:1\n",
        "Python:5\n",
        "Read:1\n",
        "and:1\n",
        "between:1\n",
        "choosing:1\n",
        "or:2\n",
        "to:1"
      ],
      "metadata": {
        "id": "1bX_bs96_ELM"
      }
    },
    {
      "cell_type": "code",
      "source": [
        "\n",
        "import operator\n",
        "\n",
        "text_line = input(\"Type in: \")\n",
        "\n",
        "freq_dict = {}\n",
        "\n",
        "for i in text_line.split(' '):\n",
        "    if i.isalpha():\n",
        "        if i not in freq_dict:\n",
        "            freq_dict[i] = 1\n",
        "        elif i in freq_dict:\n",
        "            freq_dict[i] = freq_dict[i] + 1\n",
        "    else:\n",
        "        pass\n",
        "\n",
        "sorted_freq_dict = sorted(freq_dict.items(), key = operator.itemgetter(0))\n",
        "print(sorted_freq_dict)\n",
        "\n",
        "for i in sorted_freq_dict:\n",
        "    print(i[0], i[1])"
      ],
      "metadata": {
        "colab": {
          "base_uri": "https://localhost:8080/"
        },
        "id": "MtX1OIxj9vqR",
        "outputId": "d47384d9-3bc1-4909-e0a6-f5ade06c7cec"
      },
      "execution_count": 12,
      "outputs": [
        {
          "output_type": "execute_result",
          "data": {
            "text/plain": [
              "[2, 4, 5, 6, 7, 12, 17, 22, 27, 32, 33, 34, 35, 36, 38, 40, 41]"
            ]
          },
          "metadata": {},
          "execution_count": 12
        }
      ]
    },
    {
      "cell_type": "markdown",
      "source": [
        "Define a class Person and its two child classes: Male and Female. All classes have a\n",
        "method &quot;getGender&quot; which can print &quot;Male&quot; for Male class and &quot;Female&quot; for Female\n",
        "class."
      ],
      "metadata": {
        "id": "rto794oE_JRF"
      }
    },
    {
      "cell_type": "code",
      "source": [
        "class person:\n",
        "  def getGender():\n",
        "    pass\n",
        "\n",
        "\n",
        "class male(person):\n",
        "  def getGender(self):\n",
        "    print(\"male\")  \n",
        "\n",
        "class female(person):\n",
        "  def getGender(self):\n",
        "    print(\"female\")\n",
        "\n",
        "\n",
        "m = male()\n",
        "m.getGender()          \n",
        "f = female()\n",
        "f.getGender()          "
      ],
      "metadata": {
        "colab": {
          "base_uri": "https://localhost:8080/"
        },
        "id": "kvz_2-7MFrMZ",
        "outputId": "af2ff0d0-c983-4977-dc79-cd88858acf4b"
      },
      "execution_count": 16,
      "outputs": [
        {
          "output_type": "stream",
          "name": "stdout",
          "text": [
            "male\n",
            "female\n"
          ]
        }
      ]
    },
    {
      "cell_type": "markdown",
      "source": [
        "Question 4:\n",
        "Please write a program to generate all sentences where subject is in [&quot;I&quot;, &quot;You&quot;] and\n",
        "verb is in [&quot;Play&quot;, &quot;Love&quot;] and the object is in [&quot;Hockey&quot;,&quot;Football&quot;]."
      ],
      "metadata": {
        "id": "XPW1ySjoGwN7"
      }
    },
    {
      "cell_type": "code",
      "source": [
        "li1 = [\"I\" , \"You\"]\n",
        "li2 = [\"Play\" , \"Love\"]\n",
        "li3 = [\"Hockey\" , \"Football\"]\n",
        "\n",
        "\n",
        "for i in li1:\n",
        "  for j in li2:\n",
        "    for k in li3:\n",
        "      print(f\"{i} {j} {k}\")"
      ],
      "metadata": {
        "colab": {
          "base_uri": "https://localhost:8080/"
        },
        "id": "sqvoj65HGHN0",
        "outputId": "52b81549-fe65-4da0-9dd9-0f2722282b3a"
      },
      "execution_count": 17,
      "outputs": [
        {
          "output_type": "stream",
          "name": "stdout",
          "text": [
            "I Play Hockey\n",
            "I Play Football\n",
            "I Love Hockey\n",
            "I Love Football\n",
            "You Play Hockey\n",
            "You Play Football\n",
            "You Love Hockey\n",
            "You Love Football\n"
          ]
        }
      ]
    },
    {
      "cell_type": "markdown",
      "source": [
        "Question 5:\n",
        "Please write a program to compress and decompress the string &quot;hello world!hello\n",
        "world!hello world!hello world!&quot;.\n",
        "\n",
        "> Indented block\n",
        "\n"
      ],
      "metadata": {
        "id": "X8QstU2hHWSo"
      }
    },
    {
      "cell_type": "code",
      "source": [
        "def solve(s):\n",
        "   res = \"\"\n",
        "   cnt = 1\n",
        "   for i in range(1, len(s)):\n",
        "      if s[i - 1] == s[i]:\n",
        "         cnt += 1\n",
        "      else:\n",
        "         res = res + s[i - 1]\n",
        "         if cnt > 1:\n",
        "            res += str(cnt)\n",
        "         cnt = 1\n",
        "   res = res + s[-1]\n",
        "   if cnt > 1:\n",
        "      res += str(cnt)\n",
        "   return res\n",
        "\n",
        "string = \"hello world!hello world!hello world!hello world!\"\n",
        "s = string.split(\" \")\n",
        "print(solve(s))"
      ],
      "metadata": {
        "colab": {
          "base_uri": "https://localhost:8080/"
        },
        "id": "xDPUZe4BIzWn",
        "outputId": "88878522-7d21-4437-e055-44f89cefe46a"
      },
      "execution_count": 23,
      "outputs": [
        {
          "output_type": "stream",
          "name": "stdout",
          "text": [
            "helloworld!hello3world!\n"
          ]
        }
      ]
    },
    {
      "cell_type": "markdown",
      "source": [
        "Question 6:\n",
        "Please write a binary search function which searches an item in a sorted list. The\n",
        "function should return the index of element to be searched in the list."
      ],
      "metadata": {
        "id": "m6yfmGuyJrdw"
      }
    },
    {
      "cell_type": "code",
      "source": [
        "li = [1,9,3,56,2,4,6,8,9,2,43,5667,112,66]\n",
        "li = sorted(li)\n",
        "count = 0\n",
        "search = 43\n",
        "\n",
        "if search not in li:\n",
        "  print(\"not in list\")\n",
        "else:\n",
        "  for i in li:\n",
        "    if search == i:\n",
        "      print(count)\n",
        "      break  \n",
        "    count = count+1  "
      ],
      "metadata": {
        "colab": {
          "base_uri": "https://localhost:8080/"
        },
        "id": "M6wa1SeKJE_Z",
        "outputId": "9b3dfb64-4c25-49e9-ede0-4273144e1181"
      },
      "execution_count": 29,
      "outputs": [
        {
          "output_type": "stream",
          "name": "stdout",
          "text": [
            "9\n"
          ]
        }
      ]
    },
    {
      "cell_type": "code",
      "source": [
        "li"
      ],
      "metadata": {
        "colab": {
          "base_uri": "https://localhost:8080/"
        },
        "id": "T6i9bO10J0de",
        "outputId": "aa970f97-7575-42b0-e902-0e5d24eb9794"
      },
      "execution_count": 27,
      "outputs": [
        {
          "output_type": "execute_result",
          "data": {
            "text/plain": [
              "[1, 2, 2, 3, 4, 6, 8, 9, 9, 43, 56, 66, 112, 5667]"
            ]
          },
          "metadata": {},
          "execution_count": 27
        }
      ]
    },
    {
      "cell_type": "code",
      "source": [],
      "metadata": {
        "id": "6W4zCeJjKRB9"
      },
      "execution_count": null,
      "outputs": []
    }
  ]
}