{
  "nbformat": 4,
  "nbformat_minor": 0,
  "metadata": {
    "colab": {
      "provenance": []
    },
    "kernelspec": {
      "name": "python3",
      "display_name": "Python 3"
    },
    "language_info": {
      "name": "python"
    }
  },
  "cells": [
    {
      "cell_type": "markdown",
      "source": [
        "1. Write a Python program to check if the given number is a Disarium Number?"
      ],
      "metadata": {
        "id": "Y7orJ4ILtW9G"
      }
    },
    {
      "cell_type": "code",
      "execution_count": 26,
      "metadata": {
        "colab": {
          "base_uri": "https://localhost:8080/"
        },
        "id": "0x95A8v6phdb",
        "outputId": "8cdd66cd-9382-4235-bc02-b358366883eb"
      },
      "outputs": [
        {
          "output_type": "stream",
          "name": "stdout",
          "text": [
            "175\n",
            "yes this is disarium\n"
          ]
        }
      ],
      "source": [
        "num = 175\n",
        " \n",
        "n = len(str(num))\n",
        "\n",
        "sum = 0\n",
        "temp = num\n",
        "for i in range(n,0,-1):\n",
        "  a = temp % 10\n",
        "  temp = temp//10\n",
        "  sum = sum + a**i\n",
        "print(sum)\n",
        "\n",
        "\n",
        "if sum == num:\n",
        "  print(\"yes this is disarium\")\n",
        "else:\n",
        "  print(\"no this is not a disarium\")  \n"
      ]
    },
    {
      "cell_type": "markdown",
      "source": [
        "2. Write a Python program to print all disarium numbers between 1 to 100?"
      ],
      "metadata": {
        "id": "VrjcOH0TtZF6"
      }
    },
    {
      "cell_type": "code",
      "source": [
        "for num in range(1,100):\n",
        "  n = len(str(num))\n",
        "  sum = 0\n",
        "  temp = num\n",
        "\n",
        "  for i in range(n,0,-1):\n",
        "    a = temp % 10\n",
        "    temp = temp // 10\n",
        "    sum = sum + a**i\n",
        "\n",
        "  if sum == num :\n",
        "    print(num)  \n"
      ],
      "metadata": {
        "colab": {
          "base_uri": "https://localhost:8080/"
        },
        "id": "Xx338jfJtcpq",
        "outputId": "4d7a3251-7864-469b-f9ba-fce2667d5543"
      },
      "execution_count": 23,
      "outputs": [
        {
          "output_type": "stream",
          "name": "stdout",
          "text": [
            "1\n",
            "2\n",
            "3\n",
            "4\n",
            "5\n",
            "6\n",
            "7\n",
            "8\n",
            "9\n",
            "89\n"
          ]
        }
      ]
    },
    {
      "cell_type": "markdown",
      "source": [
        "3. Write a Python program to check if the given number is Happy Number?"
      ],
      "metadata": {
        "id": "7BAoWVuiv3Fh"
      }
    },
    {
      "cell_type": "code",
      "source": [
        "num = 19\n",
        "sum = 0\n",
        "for i in range(20):\n",
        "\n",
        "  while(num>0):\n",
        "    a = num % 10\n",
        "    num = num // 10\n",
        "    sum = a**2 + sum\n",
        "   \n",
        "   \n",
        "\n",
        "  if sum == 1:\n",
        "    print(\"this is happy number\")\n",
        "    break\n",
        "  \n",
        "  \n",
        "  num = sum\n",
        "  print(sum)\n",
        "  sum = 0 \n",
        "\n",
        "\n",
        "  "
      ],
      "metadata": {
        "colab": {
          "base_uri": "https://localhost:8080/"
        },
        "id": "NFjGwyoDv1ea",
        "outputId": "5ec7d196-25bd-441b-fa1a-d613c5b43c9d"
      },
      "execution_count": 42,
      "outputs": [
        {
          "output_type": "stream",
          "name": "stdout",
          "text": [
            "82\n",
            "68\n",
            "100\n",
            "this is happy number\n"
          ]
        }
      ]
    },
    {
      "cell_type": "markdown",
      "source": [
        "4. Write a Python program to print all happy numbers between 1 and 100?"
      ],
      "metadata": {
        "id": "q7fW1zT-1ifw"
      }
    },
    {
      "cell_type": "code",
      "source": [
        "for num in range(1,100):\n",
        "\n",
        "  temp = num\n",
        "  sum = 0\n",
        "  for i in range(20):\n",
        "    \n",
        "    while(temp>0):\n",
        "      a = temp % 10\n",
        "      temp = temp // 10\n",
        "      sum = a**2 + sum\n",
        "   \n",
        "   \n",
        "\n",
        "    if sum == 1:\n",
        "      print(num)\n",
        "      break\n",
        "  \n",
        "  \n",
        "    temp = sum\n",
        "    sum = 0 \n",
        "\n",
        "  \n",
        "\n",
        "\n",
        "#  1, 7, 10, 13, 19, 23, 28, 31, 32, 44, 49, 68, 70, 79, 82, 86, 91, 94, 97, 100\n",
        "  "
      ],
      "metadata": {
        "colab": {
          "base_uri": "https://localhost:8080/"
        },
        "id": "xpDz2OEcx1Ne",
        "outputId": "54d20295-6436-4dd3-964c-10dcd521884e"
      },
      "execution_count": 43,
      "outputs": [
        {
          "output_type": "stream",
          "name": "stdout",
          "text": [
            "1\n",
            "7\n",
            "10\n",
            "13\n",
            "19\n",
            "23\n",
            "28\n",
            "31\n",
            "32\n",
            "44\n",
            "49\n",
            "68\n",
            "70\n",
            "79\n",
            "82\n",
            "86\n",
            "91\n",
            "94\n",
            "97\n"
          ]
        }
      ]
    },
    {
      "cell_type": "markdown",
      "source": [
        "5. Write a Python program to determine whether the given number is a Harshad Number?"
      ],
      "metadata": {
        "id": "JWJBRjGk4gFL"
      }
    },
    {
      "cell_type": "code",
      "source": [
        "num = 152\n",
        "temp = num\n",
        "sum = 0\n",
        "\n",
        "while(temp > 0):\n",
        "  a = temp % 10\n",
        "  temp = temp // 10\n",
        "  sum = sum + a\n",
        "\n",
        "\n",
        "\n",
        "if num % sum == 0:\n",
        "  print(\"num is harshad\")\n",
        "else:\n",
        "  print(\"num is not harshda\")  \n",
        "\n"
      ],
      "metadata": {
        "colab": {
          "base_uri": "https://localhost:8080/"
        },
        "id": "-AyMUJtB4PBR",
        "outputId": "a78862ae-a36f-4ce9-faed-07975de38440"
      },
      "execution_count": 64,
      "outputs": [
        {
          "output_type": "stream",
          "name": "stdout",
          "text": [
            "num is harshad\n"
          ]
        }
      ]
    },
    {
      "cell_type": "markdown",
      "source": [
        "6. Write a Python program to print all pronic numbers between 1 and 100?"
      ],
      "metadata": {
        "id": "55_CH-sK_IpF"
      }
    },
    {
      "cell_type": "code",
      "source": [
        "import math\n",
        "\n",
        "num = 90\n",
        "\n",
        "a = math.sqrt(num)\n",
        "n = int(a)\n",
        "\n",
        "sum  = n * (n+1)\n",
        "print(sum)\n",
        "\n",
        "if sum == num :\n",
        "  print(\"this is pronic number\")\n",
        "else:\n",
        "  print(\"this is not pronic number\")\n"
      ],
      "metadata": {
        "colab": {
          "base_uri": "https://localhost:8080/"
        },
        "id": "8xuON9V_5gHC",
        "outputId": "c6170221-8344-4a41-94df-fe6511b8edac"
      },
      "execution_count": 78,
      "outputs": [
        {
          "output_type": "stream",
          "name": "stdout",
          "text": [
            "90\n",
            "this is pronic number\n"
          ]
        }
      ]
    },
    {
      "cell_type": "code",
      "source": [],
      "metadata": {
        "id": "np9QZUjm-alB"
      },
      "execution_count": null,
      "outputs": []
    }
  ]
}