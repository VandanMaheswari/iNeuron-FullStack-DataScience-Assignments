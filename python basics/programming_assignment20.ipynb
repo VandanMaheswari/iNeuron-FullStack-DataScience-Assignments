{
  "nbformat": 4,
  "nbformat_minor": 0,
  "metadata": {
    "colab": {
      "provenance": []
    },
    "kernelspec": {
      "name": "python3",
      "display_name": "Python 3"
    },
    "language_info": {
      "name": "python"
    }
  },
  "cells": [
    {
      "cell_type": "markdown",
      "source": [
        "Question1\n",
        "Create a function that takes a list of strings and integers, and filters out the list so that it\n",
        "returns a list of integers only.\n",
        "Examples\n",
        "filter_list([1, 2, 3, &quot;a&quot;, &quot;b&quot;, 4]) ➞ [1, 2, 3, 4]\n",
        "filter_list([&quot;A&quot;, 0, &quot;Edabit&quot;, 1729, &quot;Python&quot;, &quot;1729&quot;]) ➞ [0, 1729]\n",
        "filter_list([&quot;Nothing&quot;, &quot;here&quot;]) ➞ []"
      ],
      "metadata": {
        "id": "4itOdkBw_Srt"
      }
    },
    {
      "cell_type": "code",
      "execution_count": 1,
      "metadata": {
        "id": "h7KWyRR95r-M"
      },
      "outputs": [],
      "source": [
        "def func(li):\n",
        "  li2 = []\n",
        "  for i in li:\n",
        "    if type(i) == int:\n",
        "      li2.append(i)\n",
        "\n",
        "  return li2\n",
        "      "
      ]
    },
    {
      "cell_type": "code",
      "source": [
        "func([1,2,3,'a','b',4])"
      ],
      "metadata": {
        "colab": {
          "base_uri": "https://localhost:8080/"
        },
        "id": "id42kYbX_fe-",
        "outputId": "f8ee4260-3052-40ff-d003-222ccded4fc9"
      },
      "execution_count": 2,
      "outputs": [
        {
          "output_type": "execute_result",
          "data": {
            "text/plain": [
              "[1, 2, 3, 4]"
            ]
          },
          "metadata": {},
          "execution_count": 2
        }
      ]
    },
    {
      "cell_type": "markdown",
      "source": [
        "Question2\n",
        "Given a list of numbers, create a function which returns the list but with each element&#39;s\n",
        "index in the list added to itself. This means you add 0 to the number at index 0, add 1 to the\n",
        "number at index 1, etc...\n",
        "Examples\n",
        "add_indexes([0, 0, 0, 0, 0]) ➞ [0, 1, 2, 3, 4]\n",
        "add_indexes([1, 2, 3, 4, 5]) ➞ [1, 3, 5, 7, 9]\n",
        "add_indexes([5, 4, 3, 2, 1]) ➞ [5, 5, 5, 5, 5]"
      ],
      "metadata": {
        "id": "R4DuJAGH_vTD"
      }
    },
    {
      "cell_type": "code",
      "source": [
        "def func(li):\n",
        "  li2 = []\n",
        "  count = 0\n",
        "  for i in li:\n",
        "    li2.append(i+count)\n",
        "    count = count +1\n",
        "  return li2  "
      ],
      "metadata": {
        "id": "Y2s0EJzP_j_U"
      },
      "execution_count": 3,
      "outputs": []
    },
    {
      "cell_type": "code",
      "source": [
        "func([0,0,0,0,0])"
      ],
      "metadata": {
        "colab": {
          "base_uri": "https://localhost:8080/"
        },
        "id": "4KrFEztY_7fg",
        "outputId": "7eccbbc0-711b-4582-9d22-f9161404e713"
      },
      "execution_count": 4,
      "outputs": [
        {
          "output_type": "execute_result",
          "data": {
            "text/plain": [
              "[0, 1, 2, 3, 4]"
            ]
          },
          "metadata": {},
          "execution_count": 4
        }
      ]
    },
    {
      "cell_type": "markdown",
      "source": [
        "Question3\n",
        "Create a function that takes the height and radius of a cone as arguments and returns the\n",
        "volume of the cone rounded to the nearest hundredth. See the resources tab for the formula.\n",
        "\n",
        "Examples\n",
        "cone_volume(3, 2) ➞ 12.57\n",
        "\n",
        "cone_volume(15, 6) ➞ 565.49\n",
        "cone_volume(18, 0) ➞ 0"
      ],
      "metadata": {
        "id": "2FVMOgB8AHCG"
      }
    },
    {
      "cell_type": "code",
      "source": [
        "def cone_volume(h,r):\n",
        "  return \"{:.2f}\".format((1/3)*(22/7)*(r**2)*h)"
      ],
      "metadata": {
        "id": "b5Mab4qo_-qf"
      },
      "execution_count": 10,
      "outputs": []
    },
    {
      "cell_type": "code",
      "source": [
        "cone_volume(3,2)"
      ],
      "metadata": {
        "colab": {
          "base_uri": "https://localhost:8080/",
          "height": 36
        },
        "id": "2ieElJKcAgDS",
        "outputId": "3ac5af3a-0bec-4465-88e3-3d551cc05e01"
      },
      "execution_count": 11,
      "outputs": [
        {
          "output_type": "execute_result",
          "data": {
            "text/plain": [
              "'12.57'"
            ],
            "application/vnd.google.colaboratory.intrinsic+json": {
              "type": "string"
            }
          },
          "metadata": {},
          "execution_count": 11
        }
      ]
    },
    {
      "cell_type": "markdown",
      "source": [
        "Question4\n",
        "This Triangular Number Sequence is generated from a pattern of dots that form a triangle.\n",
        "The first 5 numbers of the sequence, or dots, are:\n",
        "1, 3, 6, 10, 15\n",
        "This means that the first triangle has just one dot, the second one has three dots, the third one\n",
        "has 6 dots and so on.\n",
        "Write a function that gives the number of dots with its corresponding triangle number of the\n",
        "sequence.\n",
        "Examples\n",
        "triangle(1) ➞ 1\n",
        "triangle(6) ➞ 21\n",
        "triangle(215) ➞ 23220"
      ],
      "metadata": {
        "id": "mjqZNFuJBBhX"
      }
    },
    {
      "cell_type": "code",
      "source": [
        "def triangle(n):\n",
        "  sum = 0\n",
        "  for i in range(1,n+1):\n",
        "    sum = sum + i\n",
        "  return sum  "
      ],
      "metadata": {
        "id": "xMmm5d9wAh7T"
      },
      "execution_count": 14,
      "outputs": []
    },
    {
      "cell_type": "code",
      "source": [
        "triangle(215)"
      ],
      "metadata": {
        "colab": {
          "base_uri": "https://localhost:8080/"
        },
        "id": "_80o4Ei2Bwk5",
        "outputId": "59e2590a-8484-49d5-d474-db5b30d88297"
      },
      "execution_count": 16,
      "outputs": [
        {
          "output_type": "execute_result",
          "data": {
            "text/plain": [
              "23220"
            ]
          },
          "metadata": {},
          "execution_count": 16
        }
      ]
    },
    {
      "cell_type": "markdown",
      "source": [
        "Question5\n",
        "Create a function that takes a list of numbers between 1 and 10 (excluding one number) and\n",
        "returns the missing number.\n",
        "Examples\n",
        "missing_num([1, 2, 3, 4, 6, 7, 8, 9, 10]) ➞ 5\n",
        "missing_num([7, 2, 3, 6, 5, 9, 1, 4, 8]) ➞ 10\n",
        "missing_num([10, 5, 1, 2, 4, 6, 8, 3, 9]) ➞ 7"
      ],
      "metadata": {
        "id": "Wf9zKZBBDO1v"
      }
    },
    {
      "cell_type": "code",
      "source": [
        "def missing_number(li):\n",
        "  \n",
        "  for i in [1,2,3,4,5,6,7,8,9,10]:\n",
        "    if i not in li:\n",
        "      print(i)\n"
      ],
      "metadata": {
        "id": "q-oJZ2fnBx5N"
      },
      "execution_count": 27,
      "outputs": []
    },
    {
      "cell_type": "code",
      "source": [
        "missing_number([1,2,3,5,6,7,8,9])"
      ],
      "metadata": {
        "colab": {
          "base_uri": "https://localhost:8080/"
        },
        "id": "YyepEJYjChaj",
        "outputId": "03227d8b-a69c-41a7-c238-ba3f5b26dca4"
      },
      "execution_count": 28,
      "outputs": [
        {
          "output_type": "stream",
          "name": "stdout",
          "text": [
            "4\n",
            "10\n"
          ]
        }
      ]
    },
    {
      "cell_type": "code",
      "source": [],
      "metadata": {
        "id": "lQVQSKrbCk8p"
      },
      "execution_count": null,
      "outputs": []
    }
  ]
}