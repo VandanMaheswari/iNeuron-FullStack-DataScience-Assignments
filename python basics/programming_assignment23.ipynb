{
  "nbformat": 4,
  "nbformat_minor": 0,
  "metadata": {
    "colab": {
      "provenance": []
    },
    "kernelspec": {
      "name": "python3",
      "display_name": "Python 3"
    },
    "language_info": {
      "name": "python"
    }
  },
  "cells": [
    {
      "cell_type": "markdown",
      "source": [
        "Question 1\n",
        "Create a function that takes a number as an argument and returns True or False depending\n",
        "on whether the number is symmetrical or not. A number is symmetrical when it is the same as\n",
        "its reverse.\n",
        "Examples\n",
        "is_symmetrical(7227) ➞ True\n",
        "is_symmetrical(12567) ➞ False\n",
        "is_symmetrical(44444444) ➞ True\n",
        "is_symmetrical(9939) ➞ False\n",
        "is_symmetrical(1112111) ➞ True"
      ],
      "metadata": {
        "id": "5XIcvA2OGgku"
      }
    },
    {
      "cell_type": "code",
      "execution_count": null,
      "metadata": {
        "id": "VK8alHP-GaIA"
      },
      "outputs": [],
      "source": [
        "def is_symmetrical(num):\n",
        "  str1 = str(num)\n",
        "  count = 0\n",
        "  for i in range(len(str1)):\n",
        "    if str1[i] != str1[len(str1)-i-1]:\n",
        "      count = 1\n",
        "   \n",
        "  if count != 0 :\n",
        "    return False\n",
        "  else:\n",
        "    return True   \n",
        "\n",
        "\n"
      ]
    },
    {
      "cell_type": "markdown",
      "source": [
        "Question 2\n",
        "Given a string of numbers separated by a comma and space, return the product of the\n",
        "numbers.\n",
        "Examples\n",
        "multiply_nums(&quot;2, 3&quot;) ➞ 6\n",
        "multiply_nums(&quot;1, 2, 3, 4&quot;) ➞ 24\n",
        "multiply_nums(&quot;54, 75, 453, 0&quot;) ➞ 0\n",
        "multiply_nums(&quot;10, -2&quot;) ➞ -20"
      ],
      "metadata": {
        "id": "CSrd0xce_lbq"
      }
    },
    {
      "cell_type": "code",
      "source": [
        "def multiply_nums(str1):\n",
        "  sum = 1\n",
        "  li = str1.split(\",\")\n",
        "  for i in li:\n",
        "    sum = sum* int(i)\n",
        "\n",
        "  return sum  "
      ],
      "metadata": {
        "id": "Ev5qPp7JG91l"
      },
      "execution_count": 9,
      "outputs": []
    },
    {
      "cell_type": "code",
      "source": [
        "multiply_nums(\"1,2,3,4\")"
      ],
      "metadata": {
        "id": "g4ZsAalrHZ7C",
        "colab": {
          "base_uri": "https://localhost:8080/"
        },
        "outputId": "7d7fb2b9-9d9b-4d99-b946-682dbd896aa0"
      },
      "execution_count": 10,
      "outputs": [
        {
          "output_type": "execute_result",
          "data": {
            "text/plain": [
              "24"
            ]
          },
          "metadata": {},
          "execution_count": 10
        }
      ]
    },
    {
      "cell_type": "markdown",
      "source": [
        "Question 3\n",
        "Create a function that squares every digit of a number.\n",
        "Examples\n",
        "square_digits(9119) ➞ 811181\n",
        "square_digits(2483) ➞ 416649\n",
        "square_digits(3212) ➞ 9414\n",
        "Notes\n",
        "The function receives an integer and must return an integer."
      ],
      "metadata": {
        "id": "ohulhEOOAYQH"
      }
    },
    {
      "cell_type": "code",
      "source": [
        "def square_digits(num):\n",
        "  str1 = \"\"\n",
        "\n",
        "  for i in str(num):\n",
        "    str1 = str1 + str(int(i)*int(i))\n",
        "\n",
        "  return int(str1)  "
      ],
      "metadata": {
        "id": "9XWCXctR_-7-"
      },
      "execution_count": 18,
      "outputs": []
    },
    {
      "cell_type": "code",
      "source": [
        "square_digits(3212)"
      ],
      "metadata": {
        "colab": {
          "base_uri": "https://localhost:8080/"
        },
        "id": "kDYUOFd-FMyZ",
        "outputId": "76ccb060-211d-414e-ca42-2830db15d72c"
      },
      "execution_count": 19,
      "outputs": [
        {
          "output_type": "execute_result",
          "data": {
            "text/plain": [
              "9414"
            ]
          },
          "metadata": {},
          "execution_count": 19
        }
      ]
    },
    {
      "cell_type": "markdown",
      "source": [
        "Question 4\n",
        "Create a function that sorts a list and removes all duplicate items from it.\n",
        "Examples\n",
        "setify([1, 3, 3, 5, 5]) ➞ [1, 3, 5]\n",
        "setify([4, 4, 4, 4]) ➞ [4]\n",
        "setify([5, 7, 8, 9, 10, 15]) ➞ [5, 7, 8, 9, 10, 15]\n",
        "setify([3, 3, 3, 2, 1]) ➞ [1, 2, 3]"
      ],
      "metadata": {
        "id": "ueaG2PJDFiyT"
      }
    },
    {
      "cell_type": "code",
      "source": [
        "def setify(li):\n",
        "  li2 = []\n",
        "\n",
        "  for i in li:\n",
        "    if i not in li2:\n",
        "      li2.append(i)\n",
        "\n",
        "  return li2    "
      ],
      "metadata": {
        "id": "0iXDhSUCFPuL"
      },
      "execution_count": 20,
      "outputs": []
    },
    {
      "cell_type": "code",
      "source": [
        "setify([1,3,3,5,5])"
      ],
      "metadata": {
        "colab": {
          "base_uri": "https://localhost:8080/"
        },
        "id": "YBwrajJMFydQ",
        "outputId": "43c918a0-4983-4c24-d587-aed734f7b025"
      },
      "execution_count": 21,
      "outputs": [
        {
          "output_type": "execute_result",
          "data": {
            "text/plain": [
              "[1, 3, 5]"
            ]
          },
          "metadata": {},
          "execution_count": 21
        }
      ]
    },
    {
      "cell_type": "markdown",
      "source": [
        "Question 5\n",
        "Create a function that returns the mean of all digits.\n",
        "Examples\n",
        "mean(42) ➞ 3\n",
        "mean(12345) ➞ 3\n",
        "mean(666) ➞ 6\n",
        "Notes\n",
        " The mean of all digits is the sum of digits / how many digits there are (e.g. mean of digits in\n",
        "512 is (5+1+2)/3(number of digits) = 8/3=2).\n",
        " The mean will always be an integer."
      ],
      "metadata": {
        "id": "1mIozt9uF9Ag"
      }
    },
    {
      "cell_type": "code",
      "source": [
        "def mean(num):\n",
        "  sum = 0\n",
        "  for i in str(num):\n",
        "    sum = sum + int(i)\n",
        "\n",
        "  sum = sum/(len(str(num)))\n",
        "\n",
        "  return sum  \n"
      ],
      "metadata": {
        "id": "1XeB9pIQF1HQ"
      },
      "execution_count": 28,
      "outputs": []
    },
    {
      "cell_type": "code",
      "source": [
        "mean(12345)"
      ],
      "metadata": {
        "colab": {
          "base_uri": "https://localhost:8080/"
        },
        "id": "1sd2dplLGMf6",
        "outputId": "1430d307-8290-4187-a85f-f491be38dbaf"
      },
      "execution_count": 30,
      "outputs": [
        {
          "output_type": "execute_result",
          "data": {
            "text/plain": [
              "3.0"
            ]
          },
          "metadata": {},
          "execution_count": 30
        }
      ]
    },
    {
      "cell_type": "code",
      "source": [],
      "metadata": {
        "id": "pPGIhi27GNvL"
      },
      "execution_count": null,
      "outputs": []
    }
  ]
}