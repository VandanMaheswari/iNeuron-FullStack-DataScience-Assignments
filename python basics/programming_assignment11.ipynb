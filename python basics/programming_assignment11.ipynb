{
  "nbformat": 4,
  "nbformat_minor": 0,
  "metadata": {
    "colab": {
      "provenance": []
    },
    "kernelspec": {
      "name": "python3",
      "display_name": "Python 3"
    },
    "language_info": {
      "name": "python"
    }
  },
  "cells": [
    {
      "cell_type": "markdown",
      "source": [
        "1. Write a Python program to find words which are greater than given length k?"
      ],
      "metadata": {
        "id": "Gq29qUHvGMmq"
      }
    },
    {
      "cell_type": "code",
      "execution_count": 1,
      "metadata": {
        "colab": {
          "base_uri": "https://localhost:8080/"
        },
        "id": "COzaoH-KFzqz",
        "outputId": "4fd85770-b8af-40f1-b3d6-0820dd421612"
      },
      "outputs": [
        {
          "output_type": "execute_result",
          "data": {
            "text/plain": [
              "['maheshwari', 'captain america', 'robert downey jr']"
            ]
          },
          "metadata": {},
          "execution_count": 1
        }
      ],
      "source": [
        "li = [\"vandan\" , \"maheshwari\" , \"captain america\" , \"robert downey jr\" ,\"ahsu\" , \"ram\" ]\n",
        "li2 = []\n",
        "k = 6\n",
        "\n",
        "\n",
        "for i in li :\n",
        "  if len(i) > 6:\n",
        "    li2.append(i)\n",
        "\n",
        "li2"
      ]
    },
    {
      "cell_type": "markdown",
      "source": [
        "2. Write a Python program for removing i-th character from a string?"
      ],
      "metadata": {
        "id": "6543vHEpG28G"
      }
    },
    {
      "cell_type": "code",
      "source": [
        "word = \"vandan\"\n",
        "i = 4\n",
        "new_word = \"\"\n",
        "\n",
        "if i > len(word):\n",
        "  print(\"index out of range\")\n",
        "else:\n",
        "  for j in range(len(word)):\n",
        "    if j != (i-1):\n",
        "      new_word = new_word +word[j]\n",
        "\n",
        "\n",
        "print(new_word)    "
      ],
      "metadata": {
        "colab": {
          "base_uri": "https://localhost:8080/"
        },
        "id": "Lb_dU6BUG3-J",
        "outputId": "461fd069-4852-4241-93b2-423b32532303"
      },
      "execution_count": 10,
      "outputs": [
        {
          "output_type": "stream",
          "name": "stdout",
          "text": [
            "vanan\n"
          ]
        }
      ]
    },
    {
      "cell_type": "markdown",
      "source": [
        "3. Write a Python program to split and join a string?\n"
      ],
      "metadata": {
        "id": "ge4rLiEPM9xZ"
      }
    },
    {
      "cell_type": "code",
      "source": [
        "s = \"my name is vandan\"\n",
        "\n",
        "li = s.split(\" \")\n",
        "print(li)\n",
        "##this program is to split the string\n",
        "\n",
        "\n",
        "li = \"-\".join(li)\n",
        "print(li)\n",
        "##this is to make a string from a list\n"
      ],
      "metadata": {
        "colab": {
          "base_uri": "https://localhost:8080/"
        },
        "id": "hA7iw8g2LTHH",
        "outputId": "ef487996-d947-42f7-aa81-1fdb60bf9cfb"
      },
      "execution_count": 18,
      "outputs": [
        {
          "output_type": "stream",
          "name": "stdout",
          "text": [
            "['my', 'name', 'is', 'vandan']\n",
            "my-name-is-vandan\n"
          ]
        }
      ]
    },
    {
      "cell_type": "markdown",
      "source": [
        "4. Write a Python to check if a given string is binary string or not?"
      ],
      "metadata": {
        "id": "PlbBWqDjQLLy"
      }
    },
    {
      "cell_type": "code",
      "source": [
        "string = '010101010101'\n",
        "count = 0\n",
        "for i in string:\n",
        "  if i == '0':\n",
        "    count = count+1\n",
        "    continue\n",
        "  elif i == '1':\n",
        "    count = count +1\n",
        "    continue\n",
        "  else:\n",
        "    print(\"not binary\")\n",
        "    break\n",
        "\n",
        "if count == len(string):\n",
        "  print(\"this is binary\")        \n"
      ],
      "metadata": {
        "colab": {
          "base_uri": "https://localhost:8080/"
        },
        "id": "Uq3hGuy4Niqj",
        "outputId": "0c57ce6a-c4b7-443d-b6b1-d48fae963dda"
      },
      "execution_count": 38,
      "outputs": [
        {
          "output_type": "stream",
          "name": "stdout",
          "text": [
            "this is binary\n"
          ]
        }
      ]
    },
    {
      "cell_type": "markdown",
      "source": [
        "5. Write a Python program to find uncommon words from two Strings?\n"
      ],
      "metadata": {
        "id": "f_6SCQnRTD1o"
      }
    },
    {
      "cell_type": "code",
      "source": [
        "string1 = \"my name is vandan maheshwarrrri\"\n",
        "string2 = \"my name is vandan maheshwari\"\n",
        "\n",
        "li = string1.split(\" \")\n",
        "li2 = string2.split(\" \")\n",
        "li3 = []\n",
        "\n",
        "for i in li:\n",
        "  if i not in li2:\n",
        "    li3.append(i)\n",
        "\n",
        "for i in li2:\n",
        "  if i not in li:\n",
        "    li3.append(i)    \n",
        "\n",
        "print(li3)    "
      ],
      "metadata": {
        "colab": {
          "base_uri": "https://localhost:8080/"
        },
        "id": "z_6qnb5HTC18",
        "outputId": "0290dd62-1e00-4602-a689-906ca0d07636"
      },
      "execution_count": 50,
      "outputs": [
        {
          "output_type": "stream",
          "name": "stdout",
          "text": [
            "['maheshwarrrri', 'maheshwari']\n"
          ]
        }
      ]
    },
    {
      "cell_type": "markdown",
      "source": [
        "6. Write a Python to find all duplicate characters in string?"
      ],
      "metadata": {
        "id": "6VBhO5WzWJdf"
      }
    },
    {
      "cell_type": "code",
      "source": [
        "string = 'aaabbc'\n",
        "li = []\n",
        "for i in string:\n",
        "  count = 0\n",
        "  for j in string:\n",
        "    if i == j:\n",
        "      count = count + 1\n",
        "\n",
        "  if count > 1:\n",
        "    if i not in li:\n",
        "      li.append(i)\n",
        "       \n",
        "print(li)"
      ],
      "metadata": {
        "colab": {
          "base_uri": "https://localhost:8080/"
        },
        "id": "uTe8_k2jWJ7A",
        "outputId": "bb4242d1-4385-49e8-f72b-27ee6bd07f20"
      },
      "execution_count": 62,
      "outputs": [
        {
          "output_type": "stream",
          "name": "stdout",
          "text": [
            "['a', 'b']\n"
          ]
        }
      ]
    },
    {
      "cell_type": "markdown",
      "source": [
        "7. Write a Python Program to check if a string contains any special character?"
      ],
      "metadata": {
        "id": "Qxk_PVBxX7hI"
      }
    },
    {
      "cell_type": "code",
      "source": [
        "symbols = \"\"\"{`,~,!,@,#,$,%,^,&,*,(,),_,-,+,=,{,[,},},|,\\,:,;,\",',<,,,>,.,?,/}\"\"\"\n",
        "\n",
        "string = 'vandan@&'\n",
        "\n",
        "for i in string:\n",
        "  if i in symbols:\n",
        "    print(\"yes it has special charactar = \",i)\n"
      ],
      "metadata": {
        "colab": {
          "base_uri": "https://localhost:8080/"
        },
        "id": "iTeJsP7MYBbl",
        "outputId": "79af0743-ba56-4019-d6c3-a4a227929ab5"
      },
      "execution_count": 65,
      "outputs": [
        {
          "output_type": "stream",
          "name": "stdout",
          "text": [
            "yes it has special charactar =  @\n",
            "yes it has special charactar =  &\n"
          ]
        }
      ]
    }
  ]
}